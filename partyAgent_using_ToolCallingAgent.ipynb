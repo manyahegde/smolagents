{
  "cells": [
    {
      "cell_type": "code",
      "execution_count": 1,
      "metadata": {
        "colab": {
          "base_uri": "https://localhost:8080/",
          "height": 17,
          "referenced_widgets": [
            "e15d1735c0eb46da8e2cfc9f0887878a",
            "20babae41fd643919317e50b17f8fd1c",
            "00c27fcab46a44f1b5588911c6d8dafd",
            "8d95da8ee1774f2e89c5fcff84ac0604",
            "76efaafbea5d4ffe89c838de5e6ff574",
            "75ce56bee0c94ce8882bdd0e489889ab",
            "ee82eedd8d4044b8960284facbee73e8",
            "3b4cf61190294cdb9a5af1156adf2eb1",
            "39e48432dbb644a9bb589b60039a5901",
            "d51eea68a0ed44d789acdba8e42bdf42",
            "64deb93e4288430d9df284df18355a71",
            "4d3352e463334b9d87e6e6d9a0990bcf",
            "6aaf3cca5b5848be8ce0ca5102402c0d",
            "7bff9119d72a4940b1921d8206a9b628",
            "112451246e8b45f5893f7830daca9924",
            "8084786057a64ba2bc6da4e6740d8c71",
            "aef7bc01fc1943f19c7fd91cfc8e14c0",
            "f2d5e90076514770a9de6f5094d5e3e3",
            "86c23c3a97ab4c379e025c38368832df",
            "bb46d568372a42229f4ed4aae7cc8cb5"
          ]
        },
        "id": "LkvKv1quEeRq",
        "outputId": "29e88a3e-b197-454b-ad37-abb1c7c6ea07"
      },
      "outputs": [
        {
          "data": {
            "application/vnd.jupyter.widget-view+json": {
              "model_id": "e15d1735c0eb46da8e2cfc9f0887878a",
              "version_major": 2,
              "version_minor": 0
            },
            "text/plain": [
              "VBox(children=(HTML(value='<center> <img\\nsrc=https://huggingface.co/front/assets/huggingface_logo-noborder.sv…"
            ]
          },
          "metadata": {},
          "output_type": "display_data"
        }
      ],
      "source": [
        "from huggingface_hub import login\n",
        "\n",
        "login()"
      ]
    },
    {
      "cell_type": "code",
      "execution_count": 3,
      "metadata": {
        "colab": {
          "base_uri": "https://localhost:8080/"
        },
        "id": "H8T1qpPsEhGS",
        "outputId": "cfe7f5d1-5d1f-45d0-e053-889b1d653e2d"
      },
      "outputs": [
        {
          "name": "stdout",
          "output_type": "stream",
          "text": [
            "Collecting smolagents\n",
            "  Downloading smolagents-1.9.2-py3-none-any.whl.metadata (14 kB)\n",
            "Requirement already satisfied: huggingface-hub>=0.28.0 in /usr/local/lib/python3.11/dist-packages (from smolagents) (0.28.1)\n",
            "Requirement already satisfied: requests>=2.32.3 in /usr/local/lib/python3.11/dist-packages (from smolagents) (2.32.3)\n",
            "Requirement already satisfied: rich>=13.9.4 in /usr/local/lib/python3.11/dist-packages (from smolagents) (13.9.4)\n",
            "Collecting pandas>=2.2.3 (from smolagents)\n",
            "  Downloading pandas-2.2.3-cp311-cp311-manylinux_2_17_x86_64.manylinux2014_x86_64.whl.metadata (89 kB)\n",
            "\u001b[2K     \u001b[90m━━━━━━━━━━━━━━━━━━━━━━━━━━━━━━━━━━━━━━━━\u001b[0m \u001b[32m89.9/89.9 kB\u001b[0m \u001b[31m4.0 MB/s\u001b[0m eta \u001b[36m0:00:00\u001b[0m\n",
            "\u001b[?25hRequirement already satisfied: jinja2>=3.1.4 in /usr/local/lib/python3.11/dist-packages (from smolagents) (3.1.5)\n",
            "Requirement already satisfied: pillow>=11.0.0 in /usr/local/lib/python3.11/dist-packages (from smolagents) (11.1.0)\n",
            "Collecting markdownify>=0.14.1 (from smolagents)\n",
            "  Downloading markdownify-1.0.0-py3-none-any.whl.metadata (9.1 kB)\n",
            "Collecting duckduckgo-search>=6.3.7 (from smolagents)\n",
            "  Downloading duckduckgo_search-7.5.0-py3-none-any.whl.metadata (17 kB)\n",
            "Collecting python-dotenv (from smolagents)\n",
            "  Downloading python_dotenv-1.0.1-py3-none-any.whl.metadata (23 kB)\n",
            "Requirement already satisfied: click>=8.1.8 in /usr/local/lib/python3.11/dist-packages (from duckduckgo-search>=6.3.7->smolagents) (8.1.8)\n",
            "Collecting primp>=0.14.0 (from duckduckgo-search>=6.3.7->smolagents)\n",
            "  Downloading primp-0.14.0-cp38-abi3-manylinux_2_17_x86_64.manylinux2014_x86_64.whl.metadata (13 kB)\n",
            "Requirement already satisfied: lxml>=5.3.0 in /usr/local/lib/python3.11/dist-packages (from duckduckgo-search>=6.3.7->smolagents) (5.3.1)\n",
            "Requirement already satisfied: filelock in /usr/local/lib/python3.11/dist-packages (from huggingface-hub>=0.28.0->smolagents) (3.17.0)\n",
            "Requirement already satisfied: fsspec>=2023.5.0 in /usr/local/lib/python3.11/dist-packages (from huggingface-hub>=0.28.0->smolagents) (2024.10.0)\n",
            "Requirement already satisfied: packaging>=20.9 in /usr/local/lib/python3.11/dist-packages (from huggingface-hub>=0.28.0->smolagents) (24.2)\n",
            "Requirement already satisfied: pyyaml>=5.1 in /usr/local/lib/python3.11/dist-packages (from huggingface-hub>=0.28.0->smolagents) (6.0.2)\n",
            "Requirement already satisfied: tqdm>=4.42.1 in /usr/local/lib/python3.11/dist-packages (from huggingface-hub>=0.28.0->smolagents) (4.67.1)\n",
            "Requirement already satisfied: typing-extensions>=3.7.4.3 in /usr/local/lib/python3.11/dist-packages (from huggingface-hub>=0.28.0->smolagents) (4.12.2)\n",
            "Requirement already satisfied: MarkupSafe>=2.0 in /usr/local/lib/python3.11/dist-packages (from jinja2>=3.1.4->smolagents) (3.0.2)\n",
            "Requirement already satisfied: beautifulsoup4<5,>=4.9 in /usr/local/lib/python3.11/dist-packages (from markdownify>=0.14.1->smolagents) (4.13.3)\n",
            "Requirement already satisfied: six<2,>=1.15 in /usr/local/lib/python3.11/dist-packages (from markdownify>=0.14.1->smolagents) (1.17.0)\n",
            "Requirement already satisfied: numpy>=1.23.2 in /usr/local/lib/python3.11/dist-packages (from pandas>=2.2.3->smolagents) (1.26.4)\n",
            "Requirement already satisfied: python-dateutil>=2.8.2 in /usr/local/lib/python3.11/dist-packages (from pandas>=2.2.3->smolagents) (2.8.2)\n",
            "Requirement already satisfied: pytz>=2020.1 in /usr/local/lib/python3.11/dist-packages (from pandas>=2.2.3->smolagents) (2025.1)\n",
            "Requirement already satisfied: tzdata>=2022.7 in /usr/local/lib/python3.11/dist-packages (from pandas>=2.2.3->smolagents) (2025.1)\n",
            "Requirement already satisfied: charset-normalizer<4,>=2 in /usr/local/lib/python3.11/dist-packages (from requests>=2.32.3->smolagents) (3.4.1)\n",
            "Requirement already satisfied: idna<4,>=2.5 in /usr/local/lib/python3.11/dist-packages (from requests>=2.32.3->smolagents) (3.10)\n",
            "Requirement already satisfied: urllib3<3,>=1.21.1 in /usr/local/lib/python3.11/dist-packages (from requests>=2.32.3->smolagents) (2.3.0)\n",
            "Requirement already satisfied: certifi>=2017.4.17 in /usr/local/lib/python3.11/dist-packages (from requests>=2.32.3->smolagents) (2025.1.31)\n",
            "Requirement already satisfied: markdown-it-py>=2.2.0 in /usr/local/lib/python3.11/dist-packages (from rich>=13.9.4->smolagents) (3.0.0)\n",
            "Requirement already satisfied: pygments<3.0.0,>=2.13.0 in /usr/local/lib/python3.11/dist-packages (from rich>=13.9.4->smolagents) (2.18.0)\n",
            "Requirement already satisfied: soupsieve>1.2 in /usr/local/lib/python3.11/dist-packages (from beautifulsoup4<5,>=4.9->markdownify>=0.14.1->smolagents) (2.6)\n",
            "Requirement already satisfied: mdurl~=0.1 in /usr/local/lib/python3.11/dist-packages (from markdown-it-py>=2.2.0->rich>=13.9.4->smolagents) (0.1.2)\n",
            "Downloading smolagents-1.9.2-py3-none-any.whl (101 kB)\n",
            "\u001b[2K   \u001b[90m━━━━━━━━━━━━━━━━━━━━━━━━━━━━━━━━━━━━━━━━\u001b[0m \u001b[32m101.8/101.8 kB\u001b[0m \u001b[31m8.8 MB/s\u001b[0m eta \u001b[36m0:00:00\u001b[0m\n",
            "\u001b[?25hDownloading duckduckgo_search-7.5.0-py3-none-any.whl (20 kB)\n",
            "Downloading markdownify-1.0.0-py3-none-any.whl (13 kB)\n",
            "Downloading pandas-2.2.3-cp311-cp311-manylinux_2_17_x86_64.manylinux2014_x86_64.whl (13.1 MB)\n",
            "\u001b[2K   \u001b[90m━━━━━━━━━━━━━━━━━━━━━━━━━━━━━━━━━━━━━━━━\u001b[0m \u001b[32m13.1/13.1 MB\u001b[0m \u001b[31m87.9 MB/s\u001b[0m eta \u001b[36m0:00:00\u001b[0m\n",
            "\u001b[?25hDownloading python_dotenv-1.0.1-py3-none-any.whl (19 kB)\n",
            "Downloading primp-0.14.0-cp38-abi3-manylinux_2_17_x86_64.manylinux2014_x86_64.whl (3.3 MB)\n",
            "\u001b[2K   \u001b[90m━━━━━━━━━━━━━━━━━━━━━━━━━━━━━━━━━━━━━━━━\u001b[0m \u001b[32m3.3/3.3 MB\u001b[0m \u001b[31m78.8 MB/s\u001b[0m eta \u001b[36m0:00:00\u001b[0m\n",
            "\u001b[?25hInstalling collected packages: python-dotenv, primp, pandas, markdownify, duckduckgo-search, smolagents\n",
            "  Attempting uninstall: pandas\n",
            "    Found existing installation: pandas 2.2.2\n",
            "    Uninstalling pandas-2.2.2:\n",
            "      Successfully uninstalled pandas-2.2.2\n",
            "\u001b[31mERROR: pip's dependency resolver does not currently take into account all the packages that are installed. This behaviour is the source of the following dependency conflicts.\n",
            "google-colab 1.0.0 requires pandas==2.2.2, but you have pandas 2.2.3 which is incompatible.\u001b[0m\u001b[31m\n",
            "\u001b[0mSuccessfully installed duckduckgo-search-7.5.0 markdownify-1.0.0 pandas-2.2.3 primp-0.14.0 python-dotenv-1.0.1 smolagents-1.9.2\n"
          ]
        }
      ],
      "source": [
        "pip install smolagents -U"
      ]
    },
    {
      "cell_type": "code",
      "execution_count": 5,
      "metadata": {
        "colab": {
          "base_uri": "https://localhost:8080/",
          "height": 1000
        },
        "id": "u6UFNB9WEhNA",
        "outputId": "8a0fdb48-3724-4141-be97-1a0c3ef24e41"
      },
      "outputs": [
        {
          "data": {
            "text/html": [
              "<pre style=\"white-space:pre;overflow-x:auto;line-height:normal;font-family:Menlo,'DejaVu Sans Mono',consolas,'Courier New',monospace\"><span style=\"color: #d4b702; text-decoration-color: #d4b702\">╭──────────────────────────────────────────────────── </span><span style=\"color: #d4b702; text-decoration-color: #d4b702; font-weight: bold\">New run</span><span style=\"color: #d4b702; text-decoration-color: #d4b702\"> ────────────────────────────────────────────────────╮</span>\n",
              "<span style=\"color: #d4b702; text-decoration-color: #d4b702\">│</span>                                                                                                                 <span style=\"color: #d4b702; text-decoration-color: #d4b702\">│</span>\n",
              "<span style=\"color: #d4b702; text-decoration-color: #d4b702\">│</span> <span style=\"font-weight: bold\">Search for the best music recommendations for a party at the Wayne's mansion.</span>                                   <span style=\"color: #d4b702; text-decoration-color: #d4b702\">│</span>\n",
              "<span style=\"color: #d4b702; text-decoration-color: #d4b702\">│</span>                                                                                                                 <span style=\"color: #d4b702; text-decoration-color: #d4b702\">│</span>\n",
              "<span style=\"color: #d4b702; text-decoration-color: #d4b702\">╰─ HfApiModel - Qwen/Qwen2.5-Coder-32B-Instruct ──────────────────────────────────────────────────────────────────╯</span>\n",
              "</pre>\n"
            ],
            "text/plain": [
              "\u001b[38;2;212;183;2m╭─\u001b[0m\u001b[38;2;212;183;2m───────────────────────────────────────────────────\u001b[0m\u001b[38;2;212;183;2m \u001b[0m\u001b[1;38;2;212;183;2mNew run\u001b[0m\u001b[38;2;212;183;2m \u001b[0m\u001b[38;2;212;183;2m───────────────────────────────────────────────────\u001b[0m\u001b[38;2;212;183;2m─╮\u001b[0m\n",
              "\u001b[38;2;212;183;2m│\u001b[0m                                                                                                                 \u001b[38;2;212;183;2m│\u001b[0m\n",
              "\u001b[38;2;212;183;2m│\u001b[0m \u001b[1mSearch for the best music recommendations for a party at the Wayne's mansion.\u001b[0m                                   \u001b[38;2;212;183;2m│\u001b[0m\n",
              "\u001b[38;2;212;183;2m│\u001b[0m                                                                                                                 \u001b[38;2;212;183;2m│\u001b[0m\n",
              "\u001b[38;2;212;183;2m╰─\u001b[0m\u001b[38;2;212;183;2m HfApiModel - Qwen/Qwen2.5-Coder-32B-Instruct \u001b[0m\u001b[38;2;212;183;2m─────────────────────────────────────────────────────────────────\u001b[0m\u001b[38;2;212;183;2m─╯\u001b[0m\n"
            ]
          },
          "metadata": {},
          "output_type": "display_data"
        },
        {
          "data": {
            "text/html": [
              "<pre style=\"white-space:pre;overflow-x:auto;line-height:normal;font-family:Menlo,'DejaVu Sans Mono',consolas,'Courier New',monospace\"><span style=\"color: #d4b702; text-decoration-color: #d4b702\">━━━━━━━━━━━━━━━━━━━━━━━━━━━━━━━━━━━━━━━━━━━━━━━━━━━━━ </span><span style=\"font-weight: bold\">Step </span><span style=\"color: #008080; text-decoration-color: #008080; font-weight: bold\">1</span><span style=\"color: #d4b702; text-decoration-color: #d4b702\"> ━━━━━━━━━━━━━━━━━━━━━━━━━━━━━━━━━━━━━━━━━━━━━━━━━━━━━━</span>\n",
              "</pre>\n"
            ],
            "text/plain": [
              "\u001b[38;2;212;183;2m━━━━━━━━━━━━━━━━━━━━━━━━━━━━━━━━━━━━━━━━━━━━━━━━━━━━━ \u001b[0m\u001b[1mStep \u001b[0m\u001b[1;36m1\u001b[0m\u001b[38;2;212;183;2m ━━━━━━━━━━━━━━━━━━━━━━━━━━━━━━━━━━━━━━━━━━━━━━━━━━━━━━\u001b[0m\n"
            ]
          },
          "metadata": {},
          "output_type": "display_data"
        },
        {
          "name": "stderr",
          "output_type": "stream",
          "text": [
            "/usr/local/lib/python3.11/dist-packages/huggingface_hub/utils/_auth.py:94: UserWarning: \n",
            "The secret `HF_TOKEN` does not exist in your Colab secrets.\n",
            "To authenticate with the Hugging Face Hub, create a token in your settings tab (https://huggingface.co/settings/tokens), set it as secret in your Google Colab and restart your session.\n",
            "You will be able to reuse this secret in all of your notebooks.\n",
            "Please note that authentication is recommended but still optional to access public models or datasets.\n",
            "  warnings.warn(\n"
          ]
        },
        {
          "data": {
            "text/html": [
              "<pre style=\"white-space:pre;overflow-x:auto;line-height:normal;font-family:Menlo,'DejaVu Sans Mono',consolas,'Courier New',monospace\">╭─────────────────────────────────────────────────────────────────────────────────────────────────────────────────╮\n",
              "│ Calling tool: 'web_search' with arguments: {'query': \"best music recommendations for a party at Wayne's         │\n",
              "│ mansion\"}                                                                                                       │\n",
              "╰─────────────────────────────────────────────────────────────────────────────────────────────────────────────────╯\n",
              "</pre>\n"
            ],
            "text/plain": [
              "╭─────────────────────────────────────────────────────────────────────────────────────────────────────────────────╮\n",
              "│ Calling tool: 'web_search' with arguments: {'query': \"best music recommendations for a party at Wayne's         │\n",
              "│ mansion\"}                                                                                                       │\n",
              "╰─────────────────────────────────────────────────────────────────────────────────────────────────────────────────╯\n"
            ]
          },
          "metadata": {},
          "output_type": "display_data"
        },
        {
          "data": {
            "text/html": [
              "<pre style=\"white-space:pre;overflow-x:auto;line-height:normal;font-family:Menlo,'DejaVu Sans Mono',consolas,'Courier New',monospace\">Observations: ## Search Results\n",
              "\n",
              "|The <span style=\"color: #008080; text-decoration-color: #008080; font-weight: bold\">75</span> Best Party Songs That Will Get Everyone Dancing - \n",
              "Gear4music<span style=\"font-weight: bold\">](</span><span style=\"color: #0000ff; text-decoration-color: #0000ff; text-decoration: underline\">https://www.gear4music.com/blog/best-party-songs/)</span>\n",
              "The best party songs <span style=\"color: #008080; text-decoration-color: #008080; font-weight: bold\">1</span>. <span style=\"color: #008000; text-decoration-color: #008000\">\"September\"</span> - Earth, Wind &amp; Fire <span style=\"font-weight: bold\">(</span><span style=\"color: #008080; text-decoration-color: #008080; font-weight: bold\">1978</span><span style=\"font-weight: bold\">)</span> Quite possibly the best party song. An infectious \n",
              "mix of funk and soul, <span style=\"color: #008000; text-decoration-color: #008000\">\"September\"</span> is celebrated for its upbeat melody and <span style=\"color: #008000; text-decoration-color: #008000\">\"ba-dee-ya\"</span> chorus, making it a timeless \n",
              "dance favorite.\n",
              "\n",
              "|<span style=\"color: #008080; text-decoration-color: #008080; font-weight: bold\">50</span> Songs on Every Event Planner's Playlist - \n",
              "Eventbrite<span style=\"font-weight: bold\">](</span><span style=\"color: #0000ff; text-decoration-color: #0000ff; text-decoration: underline\">https://www.eventbrite.com/blog/event-planning-playlist-ds00/)</span>\n",
              "Music sets the mood and provides the soundtrack <span style=\"font-weight: bold\">(</span>literally<span style=\"font-weight: bold\">)</span> for a memorable and exciting time. While the right \n",
              "songs can enhance the experience, the wrong event music can throw off the vibe. For example, fast-paced songs \n",
              "probably aren't the best fit for a formal gala. And smooth jazz is likely to lull your guests at a motivational \n",
              "conference.\n",
              "\n",
              "|<span style=\"color: #008080; text-decoration-color: #008080; font-weight: bold\">200</span> Classic House Party Songs Everyone Knows | The Best <span style=\"color: #808000; text-decoration-color: #808000\">...</span> - \n",
              "iSpyTunes<span style=\"font-weight: bold\">](</span><span style=\"color: #0000ff; text-decoration-color: #0000ff; text-decoration: underline\">https://www.ispytunes.com/post/house-party-songs)</span>\n",
              "\" Branded merchandise adds flair to any occasion, just like the perfect playlist. <span style=\"color: #008080; text-decoration-color: #008080; font-weight: bold\">200</span> classic house party songs \n",
              "everyone knows set the mood, bringing energy to every celebration. The best popular party hits keep guests dancing,\n",
              "creating unforgettable moments. From throwback anthems to modern beats, a great selection ensures nonstop fun.\n",
              "\n",
              "|Similar Songs Finder | Spotify Playlist Generator - Chosic<span style=\"font-weight: bold\">](</span><span style=\"color: #0000ff; text-decoration-color: #0000ff; text-decoration: underline\">https://www.chosic.com/playlist-generator/)</span>\n",
              "Need to find similar songs to a song you like? To music you love? A playlist created for you in seconds! With \n",
              "Spotify Playlist Generator online tool, create awesome playlists in seconds, featuring similar songs to those you \n",
              "love. Whether by songs, artists, genres, moods, or based on a playlist, just start with what you have in mind, and \n",
              "it will provide you with plenty of song recommendations <span style=\"color: #808000; text-decoration-color: #808000\">...</span>\n",
              "\n",
              "|Creating a playlist for cocktail hour and dinner service for <span style=\"color: #808000; text-decoration-color: #808000\">...</span> - \n",
              "Reddit<span style=\"font-weight: bold\">](</span><span style=\"color: #0000ff; text-decoration-color: #0000ff; text-decoration: underline\">https://www.reddit.com/r/wilco/comments/12kxks1/creating_a_playlist_for_cocktail_hour_and_dinner/)</span>\n",
              "Shakey Graves - Mansion Door <span style=\"color: #808000; text-decoration-color: #808000\">...</span> Feel-good and Upbeat songs for a Kids' Campout Party <span style=\"color: #808000; text-decoration-color: #808000\">...</span> A subreddit to ask for \n",
              "our provide recommendations of any relevant media based on other media people like - whether it be music, \n",
              "television, video games, movies, or anything else. This is a RECOMMENDATION ONLY sub!\n",
              "\n",
              "|Outsider to Wayne's music here, wheres a good place to \n",
              "start?<span style=\"font-weight: bold\">](</span><span style=\"color: #0000ff; text-decoration-color: #0000ff; text-decoration: underline\">https://www.reddit.com/r/lilwayne/comments/p2csri/outsider_to_waynes_music_here_wheres_a_good_place/)</span>\n",
              "My rule to introduce Wayne is <span style=\"color: #008080; text-decoration-color: #008080; font-weight: bold\">3</span>. Da Drought <span style=\"color: #008080; text-decoration-color: #008080; font-weight: bold\">3</span> Cárter <span style=\"color: #008080; text-decoration-color: #008080; font-weight: bold\">3</span> And No Ceilings <span style=\"color: #008080; text-decoration-color: #008080; font-weight: bold\">3</span>. <span style=\"color: #008080; text-decoration-color: #008080; font-weight: bold\">3</span> projects with the number <span style=\"color: #008080; text-decoration-color: #008080; font-weight: bold\">3</span>. Da Drought \n",
              "<span style=\"color: #008080; text-decoration-color: #008080; font-weight: bold\">3</span>, is praised as WAYNE's best mixtape. Tha Carter III, had a huge impact and may be Wayne's most successful album. \n",
              "No Ceilings <span style=\"color: #008080; text-decoration-color: #008080; font-weight: bold\">3</span>, is newer so you can see how he's still doing his thing. Then whatever you want.\n",
              "\n",
              "|agents-course/units/en/unit2/smolagents/tool_calling_agents <span style=\"color: #808000; text-decoration-color: #808000\">...</span> - \n",
              "GitHub<span style=\"font-weight: bold\">](</span><span style=\"color: #0000ff; text-decoration-color: #0000ff; text-decoration: underline\">https://github.com/huggingface/agents-course/blob/main/units/en/unit2/smolagents/tool_calling_agents.mdx)</span>\n",
              "from smolagents import ToolCallingAgent, DuckDuckGoSearchTool, HfApiModel agent = ToolCallingAgent <span style=\"font-weight: bold\">(</span>tools = \n",
              "|DuckDuckGoSearchTool <span style=\"font-weight: bold\">()]</span>, model = HfApiModel <span style=\"font-weight: bold\">())</span> agent. run <span style=\"font-weight: bold\">(</span><span style=\"color: #008000; text-decoration-color: #008000\">\"Search for the best music recommendations for a </span>\n",
              "<span style=\"color: #008000; text-decoration-color: #008000\">party at the Wayne's mansion.\"</span><span style=\"font-weight: bold\">)</span>\n",
              "\n",
              "|Party Music Guide: Ultimate Tips for the Perfect \n",
              "Playlist<span style=\"font-weight: bold\">](</span><span style=\"color: #0000ff; text-decoration-color: #0000ff; text-decoration: underline\">https://thebackstage-deezer.com/music/perfect-party-music-playlist/)</span>\n",
              "Check out the best party playlists and top party songs to ensure your next party is packed! The most popular party \n",
              "songs are here, just hit play. <span style=\"color: #808000; text-decoration-color: #808000\">...</span> to decor. But, most of all, you need to have fantastic music. We recommend you \n",
              "get at least three hours' worth of party music queued and ready — that's about <span style=\"color: #008080; text-decoration-color: #008080; font-weight: bold\">75</span> songs. Lucky for you, we've <span style=\"color: #808000; text-decoration-color: #808000\">...</span>\n",
              "\n",
              "|Best Songs for a Party - Deezer The Backstage<span style=\"font-weight: bold\">](</span><span style=\"color: #0000ff; text-decoration-color: #0000ff; text-decoration: underline\">https://thebackstage-deezer.com/tops/best-song-party/)</span>\n",
              "The best party songs to get people dancing at the end of the night always keep them on their toes. Genre-specific \n",
              "party songs Every party calls for a different atmosphere, and music plays an important part in creating it. Here \n",
              "are two of the most popular decades for unforgettable tunes.\n",
              "\n",
              "|The top ten perfect house party tunes - Features - \n",
              "Mixmag<span style=\"font-weight: bold\">](</span><span style=\"color: #0000ff; text-decoration-color: #0000ff; text-decoration: underline\">https://mixmag.net/feature/the-top-ten-perfect-house-party-tunes)</span>\n",
              "Now, we've teamed up with Libratone to offer you the chance to win your very own house party, with a class DJ \n",
              "coming along to get behind the decks and soundtrack your night. We're also throwing in pizza and a cleaner for the \n",
              "day after. All you need to do is upload your best snaps to Instagram with the hashtag #lostinthebeat to be in with \n",
              "a shot.\n",
              "</pre>\n"
            ],
            "text/plain": [
              "Observations: ## Search Results\n",
              "\n",
              "|The \u001b[1;36m75\u001b[0m Best Party Songs That Will Get Everyone Dancing - \n",
              "Gear4music\u001b[1m]\u001b[0m\u001b[1m(\u001b[0m\u001b[4;94mhttps://www.gear4music.com/blog/best-party-songs/\u001b[0m\u001b[4;94m)\u001b[0m\n",
              "The best party songs \u001b[1;36m1\u001b[0m. \u001b[32m\"September\"\u001b[0m - Earth, Wind & Fire \u001b[1m(\u001b[0m\u001b[1;36m1978\u001b[0m\u001b[1m)\u001b[0m Quite possibly the best party song. An infectious \n",
              "mix of funk and soul, \u001b[32m\"September\"\u001b[0m is celebrated for its upbeat melody and \u001b[32m\"ba-dee-ya\"\u001b[0m chorus, making it a timeless \n",
              "dance favorite.\n",
              "\n",
              "|\u001b[1;36m50\u001b[0m Songs on Every Event Planner's Playlist - \n",
              "Eventbrite\u001b[1m]\u001b[0m\u001b[1m(\u001b[0m\u001b[4;94mhttps://www.eventbrite.com/blog/event-planning-playlist-ds00/\u001b[0m\u001b[4;94m)\u001b[0m\n",
              "Music sets the mood and provides the soundtrack \u001b[1m(\u001b[0mliterally\u001b[1m)\u001b[0m for a memorable and exciting time. While the right \n",
              "songs can enhance the experience, the wrong event music can throw off the vibe. For example, fast-paced songs \n",
              "probably aren't the best fit for a formal gala. And smooth jazz is likely to lull your guests at a motivational \n",
              "conference.\n",
              "\n",
              "|\u001b[1;36m200\u001b[0m Classic House Party Songs Everyone Knows | The Best \u001b[33m...\u001b[0m - \n",
              "iSpyTunes\u001b[1m]\u001b[0m\u001b[1m(\u001b[0m\u001b[4;94mhttps://www.ispytunes.com/post/house-party-songs\u001b[0m\u001b[4;94m)\u001b[0m\n",
              "\" Branded merchandise adds flair to any occasion, just like the perfect playlist. \u001b[1;36m200\u001b[0m classic house party songs \n",
              "everyone knows set the mood, bringing energy to every celebration. The best popular party hits keep guests dancing,\n",
              "creating unforgettable moments. From throwback anthems to modern beats, a great selection ensures nonstop fun.\n",
              "\n",
              "|Similar Songs Finder | Spotify Playlist Generator - Chosic\u001b[1m]\u001b[0m\u001b[1m(\u001b[0m\u001b[4;94mhttps://www.chosic.com/playlist-generator/\u001b[0m\u001b[4;94m)\u001b[0m\n",
              "Need to find similar songs to a song you like? To music you love? A playlist created for you in seconds! With \n",
              "Spotify Playlist Generator online tool, create awesome playlists in seconds, featuring similar songs to those you \n",
              "love. Whether by songs, artists, genres, moods, or based on a playlist, just start with what you have in mind, and \n",
              "it will provide you with plenty of song recommendations \u001b[33m...\u001b[0m\n",
              "\n",
              "|Creating a playlist for cocktail hour and dinner service for \u001b[33m...\u001b[0m - \n",
              "Reddit\u001b[1m]\u001b[0m\u001b[1m(\u001b[0m\u001b[4;94mhttps://www.reddit.com/r/wilco/comments/12kxks1/creating_a_playlist_for_cocktail_hour_and_dinner/\u001b[0m\u001b[4;94m)\u001b[0m\n",
              "Shakey Graves - Mansion Door \u001b[33m...\u001b[0m Feel-good and Upbeat songs for a Kids' Campout Party \u001b[33m...\u001b[0m A subreddit to ask for \n",
              "our provide recommendations of any relevant media based on other media people like - whether it be music, \n",
              "television, video games, movies, or anything else. This is a RECOMMENDATION ONLY sub!\n",
              "\n",
              "|Outsider to Wayne's music here, wheres a good place to \n",
              "start?\u001b[1m]\u001b[0m\u001b[1m(\u001b[0m\u001b[4;94mhttps://www.reddit.com/r/lilwayne/comments/p2csri/outsider_to_waynes_music_here_wheres_a_good_place/\u001b[0m\u001b[4;94m)\u001b[0m\n",
              "My rule to introduce Wayne is \u001b[1;36m3\u001b[0m. Da Drought \u001b[1;36m3\u001b[0m Cárter \u001b[1;36m3\u001b[0m And No Ceilings \u001b[1;36m3\u001b[0m. \u001b[1;36m3\u001b[0m projects with the number \u001b[1;36m3\u001b[0m. Da Drought \n",
              "\u001b[1;36m3\u001b[0m, is praised as WAYNE's best mixtape. Tha Carter III, had a huge impact and may be Wayne's most successful album. \n",
              "No Ceilings \u001b[1;36m3\u001b[0m, is newer so you can see how he's still doing his thing. Then whatever you want.\n",
              "\n",
              "|agents-course/units/en/unit2/smolagents/tool_calling_agents \u001b[33m...\u001b[0m - \n",
              "GitHub\u001b[1m]\u001b[0m\u001b[1m(\u001b[0m\u001b[4;94mhttps://github.com/huggingface/agents-course/blob/main/units/en/unit2/smolagents/tool_calling_agents.mdx\u001b[0m\u001b[4;94m)\u001b[0m\n",
              "from smolagents import ToolCallingAgent, DuckDuckGoSearchTool, HfApiModel agent = ToolCallingAgent \u001b[1m(\u001b[0mtools = \n",
              "|DuckDuckGoSearchTool \u001b[1m(\u001b[0m\u001b[1m)\u001b[0m\u001b[1m]\u001b[0m, model = HfApiModel \u001b[1m(\u001b[0m\u001b[1m)\u001b[0m\u001b[1m)\u001b[0m agent. run \u001b[1m(\u001b[0m\u001b[32m\"Search for the best music recommendations for a \u001b[0m\n",
              "\u001b[32mparty at the Wayne's mansion.\"\u001b[0m\u001b[1m)\u001b[0m\n",
              "\n",
              "|Party Music Guide: Ultimate Tips for the Perfect \n",
              "Playlist\u001b[1m]\u001b[0m\u001b[1m(\u001b[0m\u001b[4;94mhttps://thebackstage-deezer.com/music/perfect-party-music-playlist/\u001b[0m\u001b[4;94m)\u001b[0m\n",
              "Check out the best party playlists and top party songs to ensure your next party is packed! The most popular party \n",
              "songs are here, just hit play. \u001b[33m...\u001b[0m to decor. But, most of all, you need to have fantastic music. We recommend you \n",
              "get at least three hours' worth of party music queued and ready — that's about \u001b[1;36m75\u001b[0m songs. Lucky for you, we've \u001b[33m...\u001b[0m\n",
              "\n",
              "|Best Songs for a Party - Deezer The Backstage\u001b[1m]\u001b[0m\u001b[1m(\u001b[0m\u001b[4;94mhttps://thebackstage-deezer.com/tops/best-song-party/\u001b[0m\u001b[4;94m)\u001b[0m\n",
              "The best party songs to get people dancing at the end of the night always keep them on their toes. Genre-specific \n",
              "party songs Every party calls for a different atmosphere, and music plays an important part in creating it. Here \n",
              "are two of the most popular decades for unforgettable tunes.\n",
              "\n",
              "|The top ten perfect house party tunes - Features - \n",
              "Mixmag\u001b[1m]\u001b[0m\u001b[1m(\u001b[0m\u001b[4;94mhttps://mixmag.net/feature/the-top-ten-perfect-house-party-tunes\u001b[0m\u001b[4;94m)\u001b[0m\n",
              "Now, we've teamed up with Libratone to offer you the chance to win your very own house party, with a class DJ \n",
              "coming along to get behind the decks and soundtrack your night. We're also throwing in pizza and a cleaner for the \n",
              "day after. All you need to do is upload your best snaps to Instagram with the hashtag #lostinthebeat to be in with \n",
              "a shot.\n"
            ]
          },
          "metadata": {},
          "output_type": "display_data"
        },
        {
          "data": {
            "text/html": [
              "<pre style=\"white-space:pre;overflow-x:auto;line-height:normal;font-family:Menlo,'DejaVu Sans Mono',consolas,'Courier New',monospace\"><span style=\"color: #7f7f7f; text-decoration-color: #7f7f7f\">[Step 0: Duration 1.61 seconds| Input tokens: 1,174 | Output tokens: 26]</span>\n",
              "</pre>\n"
            ],
            "text/plain": [
              "\u001b[2m[Step 0: Duration 1.61 seconds| Input tokens: 1,174 | Output tokens: 26]\u001b[0m\n"
            ]
          },
          "metadata": {},
          "output_type": "display_data"
        },
        {
          "data": {
            "text/html": [
              "<pre style=\"white-space:pre;overflow-x:auto;line-height:normal;font-family:Menlo,'DejaVu Sans Mono',consolas,'Courier New',monospace\"><span style=\"color: #d4b702; text-decoration-color: #d4b702\">━━━━━━━━━━━━━━━━━━━━━━━━━━━━━━━━━━━━━━━━━━━━━━━━━━━━━ </span><span style=\"font-weight: bold\">Step </span><span style=\"color: #008080; text-decoration-color: #008080; font-weight: bold\">2</span><span style=\"color: #d4b702; text-decoration-color: #d4b702\"> ━━━━━━━━━━━━━━━━━━━━━━━━━━━━━━━━━━━━━━━━━━━━━━━━━━━━━━</span>\n",
              "</pre>\n"
            ],
            "text/plain": [
              "\u001b[38;2;212;183;2m━━━━━━━━━━━━━━━━━━━━━━━━━━━━━━━━━━━━━━━━━━━━━━━━━━━━━ \u001b[0m\u001b[1mStep \u001b[0m\u001b[1;36m2\u001b[0m\u001b[38;2;212;183;2m ━━━━━━━━━━━━━━━━━━━━━━━━━━━━━━━━━━━━━━━━━━━━━━━━━━━━━━\u001b[0m\n"
            ]
          },
          "metadata": {},
          "output_type": "display_data"
        },
        {
          "data": {
            "text/html": [
              "<pre style=\"white-space:pre;overflow-x:auto;line-height:normal;font-family:Menlo,'DejaVu Sans Mono',consolas,'Courier New',monospace\">╭─────────────────────────────────────────────────────────────────────────────────────────────────────────────────╮\n",
              "│ Calling tool: 'web_search' with arguments: {'query': \"best Wayne's World party music playlist\"}                 │\n",
              "╰─────────────────────────────────────────────────────────────────────────────────────────────────────────────────╯\n",
              "</pre>\n"
            ],
            "text/plain": [
              "╭─────────────────────────────────────────────────────────────────────────────────────────────────────────────────╮\n",
              "│ Calling tool: 'web_search' with arguments: {'query': \"best Wayne's World party music playlist\"}                 │\n",
              "╰─────────────────────────────────────────────────────────────────────────────────────────────────────────────────╯\n"
            ]
          },
          "metadata": {},
          "output_type": "display_data"
        },
        {
          "data": {
            "text/html": [
              "<pre style=\"white-space:pre;overflow-x:auto;line-height:normal;font-family:Menlo,'DejaVu Sans Mono',consolas,'Courier New',monospace\">Observations: ## Search Results\n",
              "\n",
              "|Wayne's World Soundtrack <span style=\"font-weight: bold\">(</span><span style=\"color: #008080; text-decoration-color: #008080; font-weight: bold\">1992</span><span style=\"font-weight: bold\">)</span> | List of Songs - \n",
              "WhatSong<span style=\"font-weight: bold\">](</span><span style=\"color: #0000ff; text-decoration-color: #0000ff; text-decoration: underline\">https://www.what-song.com/Movies/Soundtrack/560/Waynes-World)</span>\n",
              "Listen to all <span style=\"color: #008080; text-decoration-color: #008080; font-weight: bold\">25</span> songs from the Wayne's World soundtrack, playlist, ost and score. Loading. whatsong. Movies. \n",
              "Shows. Lists. Blog. VIP. Register. Sign In. Movies. Movies. Top <span style=\"color: #008080; text-decoration-color: #008080; font-weight: bold\">50</span> by Year. Browse A-Z. Shows. Shows. Top <span style=\"color: #008080; text-decoration-color: #008080; font-weight: bold\">50</span> by \n",
              "Year. Browse A-Z. Lists. Lists Explorer. <span style=\"color: #008080; text-decoration-color: #008080; font-weight: bold\">100</span> Most Featured Movie Songs <span style=\"color: #808000; text-decoration-color: #808000\">...</span> Listen to all <span style=\"color: #008080; text-decoration-color: #008080; font-weight: bold\">25</span> songs from the Wayne's \n",
              "World <span style=\"color: #808000; text-decoration-color: #808000\">...</span>\n",
              "\n",
              "|Wayne's World Soundtrack - Listen to all <span style=\"color: #008080; text-decoration-color: #008080; font-weight: bold\">28</span> songs with scene \n",
              "descriptions<span style=\"font-weight: bold\">](</span><span style=\"color: #0000ff; text-decoration-color: #0000ff; text-decoration: underline\">https://soundtrackradar.com/waynes-world-soundtrack/)</span>\n",
              "Listen to the music from Wayne's World. The movie features <span style=\"color: #008080; text-decoration-color: #008080; font-weight: bold\">28</span> songs in total. Each song comes with a scene \n",
              "description and an audio sample. <span style=\"color: #808000; text-decoration-color: #808000\">...</span> Note: Below is a complete playlist of all <span style=\"color: #008080; text-decoration-color: #008080; font-weight: bold\">28</span> songs that can be heard in the \n",
              "movie <span style=\"color: #008000; text-decoration-color: #008000\">\"Wayne's World\"</span>. Some of these commercial songs are not included on the official soundtrack album but are \n",
              "used in <span style=\"color: #808000; text-decoration-color: #808000\">...</span>\n",
              "\n",
              "|Waynes World Soundtrack <span style=\"font-weight: bold\">(</span>OST<span style=\"font-weight: bold\">)</span> - playlist by Movie Soundtracks - \n",
              "Spotify<span style=\"font-weight: bold\">](</span><span style=\"color: #0000ff; text-decoration-color: #0000ff; text-decoration: underline\">https://open.spotify.com/playlist/3Sd639NZGGBhCCqCzLs4PM)</span>\n",
              "Waynes World Soundtrack <span style=\"font-weight: bold\">(</span>OST<span style=\"font-weight: bold\">)</span> · Playlist · <span style=\"color: #008080; text-decoration-color: #008080; font-weight: bold\">16</span> songs · <span style=\"color: #008080; text-decoration-color: #008080; font-weight: bold\">395</span> likes\n",
              "\n",
              "|Waynes' World Party Hard! EXCELLENT! - YouTube \n",
              "Music<span style=\"font-weight: bold\">](</span><span style=\"color: #0000ff; text-decoration-color: #0000ff; text-decoration: underline\">https://music.youtube.com/playlist?list=PLkzgxSZQWS-5mui76HZ6J2UzAYjgMAV2c)</span>\n",
              "A new music service with official albums, singles, videos, remixes, live performances and more for Android, iOS and\n",
              "desktop. It's all here.\n",
              "\n",
              "|Wayne's World <span style=\"font-weight: bold\">(</span>Music From The Motion Picture<span style=\"font-weight: bold\">)</span> - \n",
              "YouTube<span style=\"font-weight: bold\">](</span><span style=\"color: #0000ff; text-decoration-color: #0000ff; text-decoration: underline\">https://www.youtube.com/playlist?list=PLG1HVdQ3y68mYRXoO0Yfja4JGW19ApP_A)</span>\n",
              "Wayne's World Soundtrack\n",
              "\n",
              "|Wayne's World - Music From The Motion Picture <span style=\"font-weight: bold\">(</span>Full \n",
              "Album<span style=\"font-weight: bold\">)](</span><span style=\"color: #0000ff; text-decoration-color: #0000ff; text-decoration: underline\">https://www.youtube.com/playlist?list=PLLy1F0NPv5goQY19Z3oaGPR_arfWKmbCl)</span>\n",
              "Share your videos with friends, family, and the world\n",
              "\n",
              "|Wayne's World Soundtrack - YouTube \n",
              "Music<span style=\"font-weight: bold\">](</span><span style=\"color: #0000ff; text-decoration-color: #0000ff; text-decoration: underline\">https://music.youtube.com/playlist?list=PLT1B-MgwGk7dEQdDHbrZK77YMlrlo0NIZ)</span>\n",
              "<span style=\"color: #008080; text-decoration-color: #008080; font-weight: bold\">1</span> - Bohemian Rhapsody - Queen <span style=\"color: #008080; text-decoration-color: #008080; font-weight: bold\">2</span> - Hot and Bothered - Cinderella <span style=\"color: #008080; text-decoration-color: #008080; font-weight: bold\">3</span> - Rock Candy - BulletBoys <span style=\"color: #008080; text-decoration-color: #008080; font-weight: bold\">4</span> - Dream Weaver - Gary\n",
              "Wright <span style=\"font-weight: bold\">(</span>Rerecorded Version<span style=\"font-weight: bold\">)</span> <span style=\"color: #008080; text-decoration-color: #008080; font-weight: bold\">5</span> - Sikamikanico - Red Hot Chili Peppers <span style=\"color: #008080; text-decoration-color: #008080; font-weight: bold\">6</span> - Time Machine - Black Sabbath <span style=\"color: #008080; text-decoration-color: #008080; font-weight: bold\">7</span> - Wayne's \n",
              "World Theme - Mike Myers/Dana Carvey <span style=\"font-weight: bold\">(</span>Extended Version<span style=\"font-weight: bold\">)</span> <span style=\"color: #008080; text-decoration-color: #008080; font-weight: bold\">8</span> - Ballroom Blitz - Tia Carrere <span style=\"color: #008080; text-decoration-color: #008080; font-weight: bold\">9</span> - Happy Together - The \n",
              "Turtles <span style=\"color: #008080; text-decoration-color: #008080; font-weight: bold\">10</span> - Foxy Lady - The Jimi Hendrix Experience <span style=\"color: #808000; text-decoration-color: #808000\">...</span>\n",
              "\n",
              "|Wayne's World <span style=\"color: #800080; text-decoration-color: #800080\">/</span> Bill &amp; Ted Party - playlist by James Native - \n",
              "Spotify<span style=\"font-weight: bold\">](</span><span style=\"color: #0000ff; text-decoration-color: #0000ff; text-decoration: underline\">https://open.spotify.com/playlist/2PPjgtqeHWynzMUi6NAtOj)</span>\n",
              "Wayne's World <span style=\"color: #800080; text-decoration-color: #800080\">/</span> Bill &amp; Ted Party · Playlist · <span style=\"color: #008080; text-decoration-color: #008080; font-weight: bold\">194</span> songs · <span style=\"color: #008080; text-decoration-color: #008080; font-weight: bold\">1.</span>5K likes\n",
              "\n",
              "|Wayne's World Soundtrack - YouTube<span style=\"font-weight: bold\">](</span><span style=\"color: #0000ff; text-decoration-color: #0000ff; text-decoration: underline\">https://www.youtube.com/playlist?list=PLT1B-MgwGk7dEQdDHbrZK77YMlrlo0NIZ)</span>\n",
              "<span style=\"color: #008080; text-decoration-color: #008080; font-weight: bold\">1</span> - Bohemian Rhapsody - Queen <span style=\"color: #008080; text-decoration-color: #008080; font-weight: bold\">2</span> - Hot and Bothered - Cinderella <span style=\"color: #008080; text-decoration-color: #008080; font-weight: bold\">3</span> - Rock Candy - BulletBoys <span style=\"color: #008080; text-decoration-color: #008080; font-weight: bold\">4</span> - Dream Weaver - Gary\n",
              "Wright <span style=\"font-weight: bold\">(</span>Rerecorded Version<span style=\"font-weight: bold\">)</span> <span style=\"color: #008080; text-decoration-color: #008080; font-weight: bold\">5</span> - Sikamikan<span style=\"color: #808000; text-decoration-color: #808000\">...</span>\n",
              "\n",
              "|Wayne's World Soundtrack - playlist by Allknowing <span style=\"color: #808000; text-decoration-color: #808000\">...</span> - \n",
              "Spotify<span style=\"font-weight: bold\">](</span><span style=\"color: #0000ff; text-decoration-color: #0000ff; text-decoration: underline\">https://open.spotify.com/playlist/3KezjQABpt0ZM5bQSWx8jU)</span>\n",
              "Wayne's World Soundtrack · Playlist · <span style=\"color: #008080; text-decoration-color: #008080; font-weight: bold\">27</span> songs · <span style=\"color: #008080; text-decoration-color: #008080; font-weight: bold\">3</span> likes\n",
              "</pre>\n"
            ],
            "text/plain": [
              "Observations: ## Search Results\n",
              "\n",
              "|Wayne's World Soundtrack \u001b[1m(\u001b[0m\u001b[1;36m1992\u001b[0m\u001b[1m)\u001b[0m | List of Songs - \n",
              "WhatSong\u001b[1m]\u001b[0m\u001b[1m(\u001b[0m\u001b[4;94mhttps://www.what-song.com/Movies/Soundtrack/560/Waynes-World\u001b[0m\u001b[4;94m)\u001b[0m\n",
              "Listen to all \u001b[1;36m25\u001b[0m songs from the Wayne's World soundtrack, playlist, ost and score. Loading. whatsong. Movies. \n",
              "Shows. Lists. Blog. VIP. Register. Sign In. Movies. Movies. Top \u001b[1;36m50\u001b[0m by Year. Browse A-Z. Shows. Shows. Top \u001b[1;36m50\u001b[0m by \n",
              "Year. Browse A-Z. Lists. Lists Explorer. \u001b[1;36m100\u001b[0m Most Featured Movie Songs \u001b[33m...\u001b[0m Listen to all \u001b[1;36m25\u001b[0m songs from the Wayne's \n",
              "World \u001b[33m...\u001b[0m\n",
              "\n",
              "|Wayne's World Soundtrack - Listen to all \u001b[1;36m28\u001b[0m songs with scene \n",
              "descriptions\u001b[1m]\u001b[0m\u001b[1m(\u001b[0m\u001b[4;94mhttps://soundtrackradar.com/waynes-world-soundtrack/\u001b[0m\u001b[4;94m)\u001b[0m\n",
              "Listen to the music from Wayne's World. The movie features \u001b[1;36m28\u001b[0m songs in total. Each song comes with a scene \n",
              "description and an audio sample. \u001b[33m...\u001b[0m Note: Below is a complete playlist of all \u001b[1;36m28\u001b[0m songs that can be heard in the \n",
              "movie \u001b[32m\"Wayne's World\"\u001b[0m. Some of these commercial songs are not included on the official soundtrack album but are \n",
              "used in \u001b[33m...\u001b[0m\n",
              "\n",
              "|Waynes World Soundtrack \u001b[1m(\u001b[0mOST\u001b[1m)\u001b[0m - playlist by Movie Soundtracks - \n",
              "Spotify\u001b[1m]\u001b[0m\u001b[1m(\u001b[0m\u001b[4;94mhttps://open.spotify.com/playlist/3Sd639NZGGBhCCqCzLs4PM\u001b[0m\u001b[4;94m)\u001b[0m\n",
              "Waynes World Soundtrack \u001b[1m(\u001b[0mOST\u001b[1m)\u001b[0m · Playlist · \u001b[1;36m16\u001b[0m songs · \u001b[1;36m395\u001b[0m likes\n",
              "\n",
              "|Waynes' World Party Hard! EXCELLENT! - YouTube \n",
              "Music\u001b[1m]\u001b[0m\u001b[1m(\u001b[0m\u001b[4;94mhttps://music.youtube.com/playlist?\u001b[0m\u001b[4;94mlist\u001b[0m\u001b[4;94m=\u001b[0m\u001b[4;94mPLkzgxSZQWS\u001b[0m\u001b[4;94m-5mui76HZ6J2UzAYjgMAV2c\u001b[0m\u001b[4;94m)\u001b[0m\n",
              "A new music service with official albums, singles, videos, remixes, live performances and more for Android, iOS and\n",
              "desktop. It's all here.\n",
              "\n",
              "|Wayne's World \u001b[1m(\u001b[0mMusic From The Motion Picture\u001b[1m)\u001b[0m - \n",
              "YouTube\u001b[1m]\u001b[0m\u001b[1m(\u001b[0m\u001b[4;94mhttps://www.youtube.com/playlist?\u001b[0m\u001b[4;94mlist\u001b[0m\u001b[4;94m=\u001b[0m\u001b[4;94mPLG1HVdQ3y68mYRXoO0Yfja4JGW19ApP_A\u001b[0m\u001b[4;94m)\u001b[0m\n",
              "Wayne's World Soundtrack\n",
              "\n",
              "|Wayne's World - Music From The Motion Picture \u001b[1m(\u001b[0mFull \n",
              "Album\u001b[1m)\u001b[0m\u001b[1m]\u001b[0m\u001b[1m(\u001b[0m\u001b[4;94mhttps://www.youtube.com/playlist?\u001b[0m\u001b[4;94mlist\u001b[0m\u001b[4;94m=\u001b[0m\u001b[4;94mPLLy1F0NPv5goQY19Z3oaGPR_arfWKmbCl\u001b[0m\u001b[4;94m)\u001b[0m\n",
              "Share your videos with friends, family, and the world\n",
              "\n",
              "|Wayne's World Soundtrack - YouTube \n",
              "Music\u001b[1m]\u001b[0m\u001b[1m(\u001b[0m\u001b[4;94mhttps://music.youtube.com/playlist?\u001b[0m\u001b[4;94mlist\u001b[0m\u001b[4;94m=\u001b[0m\u001b[4;94mPLT1B\u001b[0m\u001b[4;94m-MgwGk7dEQdDHbrZK77YMlrlo0NIZ\u001b[0m\u001b[4;94m)\u001b[0m\n",
              "\u001b[1;36m1\u001b[0m - Bohemian Rhapsody - Queen \u001b[1;36m2\u001b[0m - Hot and Bothered - Cinderella \u001b[1;36m3\u001b[0m - Rock Candy - BulletBoys \u001b[1;36m4\u001b[0m - Dream Weaver - Gary\n",
              "Wright \u001b[1m(\u001b[0mRerecorded Version\u001b[1m)\u001b[0m \u001b[1;36m5\u001b[0m - Sikamikanico - Red Hot Chili Peppers \u001b[1;36m6\u001b[0m - Time Machine - Black Sabbath \u001b[1;36m7\u001b[0m - Wayne's \n",
              "World Theme - Mike Myers/Dana Carvey \u001b[1m(\u001b[0mExtended Version\u001b[1m)\u001b[0m \u001b[1;36m8\u001b[0m - Ballroom Blitz - Tia Carrere \u001b[1;36m9\u001b[0m - Happy Together - The \n",
              "Turtles \u001b[1;36m10\u001b[0m - Foxy Lady - The Jimi Hendrix Experience \u001b[33m...\u001b[0m\n",
              "\n",
              "|Wayne's World \u001b[35m/\u001b[0m Bill & Ted Party - playlist by James Native - \n",
              "Spotify\u001b[1m]\u001b[0m\u001b[1m(\u001b[0m\u001b[4;94mhttps://open.spotify.com/playlist/2PPjgtqeHWynzMUi6NAtOj\u001b[0m\u001b[4;94m)\u001b[0m\n",
              "Wayne's World \u001b[35m/\u001b[0m Bill & Ted Party · Playlist · \u001b[1;36m194\u001b[0m songs · \u001b[1;36m1.\u001b[0m5K likes\n",
              "\n",
              "|Wayne's World Soundtrack - YouTube\u001b[1m]\u001b[0m\u001b[1m(\u001b[0m\u001b[4;94mhttps://www.youtube.com/playlist?\u001b[0m\u001b[4;94mlist\u001b[0m\u001b[4;94m=\u001b[0m\u001b[4;94mPLT1B\u001b[0m\u001b[4;94m-MgwGk7dEQdDHbrZK77YMlrlo0NIZ\u001b[0m\u001b[4;94m)\u001b[0m\n",
              "\u001b[1;36m1\u001b[0m - Bohemian Rhapsody - Queen \u001b[1;36m2\u001b[0m - Hot and Bothered - Cinderella \u001b[1;36m3\u001b[0m - Rock Candy - BulletBoys \u001b[1;36m4\u001b[0m - Dream Weaver - Gary\n",
              "Wright \u001b[1m(\u001b[0mRerecorded Version\u001b[1m)\u001b[0m \u001b[1;36m5\u001b[0m - Sikamikan\u001b[33m...\u001b[0m\n",
              "\n",
              "|Wayne's World Soundtrack - playlist by Allknowing \u001b[33m...\u001b[0m - \n",
              "Spotify\u001b[1m]\u001b[0m\u001b[1m(\u001b[0m\u001b[4;94mhttps://open.spotify.com/playlist/3KezjQABpt0ZM5bQSWx8jU\u001b[0m\u001b[4;94m)\u001b[0m\n",
              "Wayne's World Soundtrack · Playlist · \u001b[1;36m27\u001b[0m songs · \u001b[1;36m3\u001b[0m likes\n"
            ]
          },
          "metadata": {},
          "output_type": "display_data"
        },
        {
          "data": {
            "text/html": [
              "<pre style=\"white-space:pre;overflow-x:auto;line-height:normal;font-family:Menlo,'DejaVu Sans Mono',consolas,'Courier New',monospace\"><span style=\"color: #7f7f7f; text-decoration-color: #7f7f7f\">[Step 1: Duration 6.75 seconds| Input tokens: 3,493 | Output tokens: 50]</span>\n",
              "</pre>\n"
            ],
            "text/plain": [
              "\u001b[2m[Step 1: Duration 6.75 seconds| Input tokens: 3,493 | Output tokens: 50]\u001b[0m\n"
            ]
          },
          "metadata": {},
          "output_type": "display_data"
        },
        {
          "data": {
            "text/html": [
              "<pre style=\"white-space:pre;overflow-x:auto;line-height:normal;font-family:Menlo,'DejaVu Sans Mono',consolas,'Courier New',monospace\"><span style=\"color: #d4b702; text-decoration-color: #d4b702\">━━━━━━━━━━━━━━━━━━━━━━━━━━━━━━━━━━━━━━━━━━━━━━━━━━━━━ </span><span style=\"font-weight: bold\">Step </span><span style=\"color: #008080; text-decoration-color: #008080; font-weight: bold\">3</span><span style=\"color: #d4b702; text-decoration-color: #d4b702\"> ━━━━━━━━━━━━━━━━━━━━━━━━━━━━━━━━━━━━━━━━━━━━━━━━━━━━━━</span>\n",
              "</pre>\n"
            ],
            "text/plain": [
              "\u001b[38;2;212;183;2m━━━━━━━━━━━━━━━━━━━━━━━━━━━━━━━━━━━━━━━━━━━━━━━━━━━━━ \u001b[0m\u001b[1mStep \u001b[0m\u001b[1;36m3\u001b[0m\u001b[38;2;212;183;2m ━━━━━━━━━━━━━━━━━━━━━━━━━━━━━━━━━━━━━━━━━━━━━━━━━━━━━━\u001b[0m\n"
            ]
          },
          "metadata": {},
          "output_type": "display_data"
        },
        {
          "data": {
            "text/html": [
              "<pre style=\"white-space:pre;overflow-x:auto;line-height:normal;font-family:Menlo,'DejaVu Sans Mono',consolas,'Courier New',monospace\">╭─────────────────────────────────────────────────────────────────────────────────────────────────────────────────╮\n",
              "│ Calling tool: 'final_answer' with arguments: {'answer': \"Based on the search results, a great playlist for a    │\n",
              "│ party at Wayne's mansion could include music from the official Wayne's World soundtrack as well as additional   │\n",
              "│ party-friendly tracks that fit the movie's vibe. Here are a few song titles you might consider adding to your   │\n",
              "│ playlist:\\\\n1. Bohemian Rhapsody - Queen\\\\\\\\n2. Hot and Bothered - Cinderella\\\\\\\\n3. Rock Candy -               │\n",
              "│ BulletBoys\\\\\\\\n4. Dream Weaver - Gary Wright\\\\\\\\n5. Sikamikanico - Red Hot Chili Peppers\\\\\\\\n6. Time Machine -  │\n",
              "│ Black Sabbath\\\\\\\\n7. Wayne's World Theme - Mike Myers/Dana Carvey\\\\\\\\n8. Ballroom Blitz - Tia Carrere\\\\\\\\n9.    │\n",
              "│ Happy Together - The Turtles\\\\\\\\n10. Foxy Lady - The Jimi Hendrix Experience\\\\\\\\nAdditionally, consider         │\n",
              "│ exploring the playlist titled 'Wayne's World / Bill &amp; Ted Party' by James on Spotify, which includes 194 songs  │\n",
              "│ that might fit the party theme well.\"}                                                                          │\n",
              "╰─────────────────────────────────────────────────────────────────────────────────────────────────────────────────╯\n",
              "</pre>\n"
            ],
            "text/plain": [
              "╭─────────────────────────────────────────────────────────────────────────────────────────────────────────────────╮\n",
              "│ Calling tool: 'final_answer' with arguments: {'answer': \"Based on the search results, a great playlist for a    │\n",
              "│ party at Wayne's mansion could include music from the official Wayne's World soundtrack as well as additional   │\n",
              "│ party-friendly tracks that fit the movie's vibe. Here are a few song titles you might consider adding to your   │\n",
              "│ playlist:\\\\n1. Bohemian Rhapsody - Queen\\\\\\\\n2. Hot and Bothered - Cinderella\\\\\\\\n3. Rock Candy -               │\n",
              "│ BulletBoys\\\\\\\\n4. Dream Weaver - Gary Wright\\\\\\\\n5. Sikamikanico - Red Hot Chili Peppers\\\\\\\\n6. Time Machine -  │\n",
              "│ Black Sabbath\\\\\\\\n7. Wayne's World Theme - Mike Myers/Dana Carvey\\\\\\\\n8. Ballroom Blitz - Tia Carrere\\\\\\\\n9.    │\n",
              "│ Happy Together - The Turtles\\\\\\\\n10. Foxy Lady - The Jimi Hendrix Experience\\\\\\\\nAdditionally, consider         │\n",
              "│ exploring the playlist titled 'Wayne's World / Bill & Ted Party' by James on Spotify, which includes 194 songs  │\n",
              "│ that might fit the party theme well.\"}                                                                          │\n",
              "╰─────────────────────────────────────────────────────────────────────────────────────────────────────────────────╯\n"
            ]
          },
          "metadata": {},
          "output_type": "display_data"
        },
        {
          "data": {
            "text/html": [
              "<pre style=\"white-space:pre;overflow-x:auto;line-height:normal;font-family:Menlo,'DejaVu Sans Mono',consolas,'Courier New',monospace\"><span style=\"color: #d4b702; text-decoration-color: #d4b702; font-weight: bold\">Final answer: Based on the search results, a great playlist for a party at Wayne's mansion could include music from</span>\n",
              "<span style=\"color: #d4b702; text-decoration-color: #d4b702; font-weight: bold\">the official Wayne's World soundtrack as well as additional party-friendly tracks that fit the movie's vibe. Here </span>\n",
              "<span style=\"color: #d4b702; text-decoration-color: #d4b702; font-weight: bold\">are a few song titles you might consider adding to your playlist:\\n1. Bohemian Rhapsody - Queen\\\\n2. Hot and </span>\n",
              "<span style=\"color: #d4b702; text-decoration-color: #d4b702; font-weight: bold\">Bothered - Cinderella\\\\n3. Rock Candy - BulletBoys\\\\n4. Dream Weaver - Gary Wright\\\\n5. Sikamikanico - Red Hot </span>\n",
              "<span style=\"color: #d4b702; text-decoration-color: #d4b702; font-weight: bold\">Chili Peppers\\\\n6. Time Machine - Black Sabbath\\\\n7. Wayne's World Theme - Mike Myers/Dana Carvey\\\\n8. Ballroom </span>\n",
              "<span style=\"color: #d4b702; text-decoration-color: #d4b702; font-weight: bold\">Blitz - Tia Carrere\\\\n9. Happy Together - The Turtles\\\\n10. Foxy Lady - The Jimi Hendrix Experience\\\\nAdditionally,</span>\n",
              "<span style=\"color: #d4b702; text-decoration-color: #d4b702; font-weight: bold\">consider exploring the playlist titled 'Wayne's World / Bill &amp; Ted Party' by James on Spotify, which includes 194 </span>\n",
              "<span style=\"color: #d4b702; text-decoration-color: #d4b702; font-weight: bold\">songs that might fit the party theme well.</span>\n",
              "</pre>\n"
            ],
            "text/plain": [
              "\u001b[1;38;2;212;183;2mFinal answer: Based on the search results, a great playlist for a party at Wayne's mansion could include music from\u001b[0m\n",
              "\u001b[1;38;2;212;183;2mthe official Wayne's World soundtrack as well as additional party-friendly tracks that fit the movie's vibe. Here \u001b[0m\n",
              "\u001b[1;38;2;212;183;2mare a few song titles you might consider adding to your playlist:\\n1. Bohemian Rhapsody - Queen\\\\n2. Hot and \u001b[0m\n",
              "\u001b[1;38;2;212;183;2mBothered - Cinderella\\\\n3. Rock Candy - BulletBoys\\\\n4. Dream Weaver - Gary Wright\\\\n5. Sikamikanico - Red Hot \u001b[0m\n",
              "\u001b[1;38;2;212;183;2mChili Peppers\\\\n6. Time Machine - Black Sabbath\\\\n7. Wayne's World Theme - Mike Myers/Dana Carvey\\\\n8. Ballroom \u001b[0m\n",
              "\u001b[1;38;2;212;183;2mBlitz - Tia Carrere\\\\n9. Happy Together - The Turtles\\\\n10. Foxy Lady - The Jimi Hendrix Experience\\\\nAdditionally,\u001b[0m\n",
              "\u001b[1;38;2;212;183;2mconsider exploring the playlist titled 'Wayne's World / Bill & Ted Party' by James on Spotify, which includes 194 \u001b[0m\n",
              "\u001b[1;38;2;212;183;2msongs that might fit the party theme well.\u001b[0m\n"
            ]
          },
          "metadata": {},
          "output_type": "display_data"
        },
        {
          "data": {
            "text/html": [
              "<pre style=\"white-space:pre;overflow-x:auto;line-height:normal;font-family:Menlo,'DejaVu Sans Mono',consolas,'Courier New',monospace\"><span style=\"color: #7f7f7f; text-decoration-color: #7f7f7f\">[Step 2: Duration 34.64 seconds| Input tokens: 6,789 | Output tokens: 279]</span>\n",
              "</pre>\n"
            ],
            "text/plain": [
              "\u001b[2m[Step 2: Duration 34.64 seconds| Input tokens: 6,789 | Output tokens: 279]\u001b[0m\n"
            ]
          },
          "metadata": {},
          "output_type": "display_data"
        },
        {
          "data": {
            "application/vnd.google.colaboratory.intrinsic+json": {
              "type": "string"
            },
            "text/plain": [
              "\"Based on the search results, a great playlist for a party at Wayne's mansion could include music from the official Wayne's World soundtrack as well as additional party-friendly tracks that fit the movie's vibe. Here are a few song titles you might consider adding to your playlist:\\\\n1. Bohemian Rhapsody - Queen\\\\\\\\n2. Hot and Bothered - Cinderella\\\\\\\\n3. Rock Candy - BulletBoys\\\\\\\\n4. Dream Weaver - Gary Wright\\\\\\\\n5. Sikamikanico - Red Hot Chili Peppers\\\\\\\\n6. Time Machine - Black Sabbath\\\\\\\\n7. Wayne's World Theme - Mike Myers/Dana Carvey\\\\\\\\n8. Ballroom Blitz - Tia Carrere\\\\\\\\n9. Happy Together - The Turtles\\\\\\\\n10. Foxy Lady - The Jimi Hendrix Experience\\\\\\\\nAdditionally, consider exploring the playlist titled 'Wayne's World / Bill & Ted Party' by James on Spotify, which includes 194 songs that might fit the party theme well.\""
            ]
          },
          "execution_count": 5,
          "metadata": {},
          "output_type": "execute_result"
        }
      ],
      "source": [
        "from smolagents import ToolCallingAgent, DuckDuckGoSearchTool, HfApiModel\n",
        "\n",
        "agent = ToolCallingAgent(tools=[DuckDuckGoSearchTool()], model=HfApiModel())\n",
        "\n",
        "agent.run(\"Search for the best music recommendations for a party at the Wayne's mansion.\")"
      ]
    },
    {
      "cell_type": "code",
      "execution_count": 13,
      "metadata": {
        "id": "m0GoO7XAH35a"
      },
      "outputs": [],
      "source": [
        "# Making the agent to reason using <think>"
      ]
    },
    {
      "cell_type": "code",
      "execution_count": 8,
      "metadata": {
        "colab": {
          "base_uri": "https://localhost:8080/",
          "height": 1000
        },
        "id": "XuLcOkZyErWx",
        "outputId": "c02255a8-61e2-4ca0-de46-b739dc3cbd91"
      },
      "outputs": [
        {
          "data": {
            "text/html": [
              "<pre style=\"white-space:pre;overflow-x:auto;line-height:normal;font-family:Menlo,'DejaVu Sans Mono',consolas,'Courier New',monospace\"><span style=\"color: #d4b702; text-decoration-color: #d4b702\">╭──────────────────────────────────────────────────── </span><span style=\"color: #d4b702; text-decoration-color: #d4b702; font-weight: bold\">New run</span><span style=\"color: #d4b702; text-decoration-color: #d4b702\"> ────────────────────────────────────────────────────╮</span>\n",
              "<span style=\"color: #d4b702; text-decoration-color: #d4b702\">│</span>                                                                                                                 <span style=\"color: #d4b702; text-decoration-color: #d4b702\">│</span>\n",
              "<span style=\"color: #d4b702; text-decoration-color: #d4b702\">│</span> <span style=\"font-weight: bold\">&lt;think&gt; Before executing anything, think step by step and output reasoning. &lt;/think&gt;Search for the best music </span>  <span style=\"color: #d4b702; text-decoration-color: #d4b702\">│</span>\n",
              "<span style=\"color: #d4b702; text-decoration-color: #d4b702\">│</span> <span style=\"font-weight: bold\">recommendations for a party at the Wayne's mansion.</span>                                                             <span style=\"color: #d4b702; text-decoration-color: #d4b702\">│</span>\n",
              "<span style=\"color: #d4b702; text-decoration-color: #d4b702\">│</span>                                                                                                                 <span style=\"color: #d4b702; text-decoration-color: #d4b702\">│</span>\n",
              "<span style=\"color: #d4b702; text-decoration-color: #d4b702\">╰─ HfApiModel - Qwen/Qwen2.5-Coder-32B-Instruct ──────────────────────────────────────────────────────────────────╯</span>\n",
              "</pre>\n"
            ],
            "text/plain": [
              "\u001b[38;2;212;183;2m╭─\u001b[0m\u001b[38;2;212;183;2m───────────────────────────────────────────────────\u001b[0m\u001b[38;2;212;183;2m \u001b[0m\u001b[1;38;2;212;183;2mNew run\u001b[0m\u001b[38;2;212;183;2m \u001b[0m\u001b[38;2;212;183;2m───────────────────────────────────────────────────\u001b[0m\u001b[38;2;212;183;2m─╮\u001b[0m\n",
              "\u001b[38;2;212;183;2m│\u001b[0m                                                                                                                 \u001b[38;2;212;183;2m│\u001b[0m\n",
              "\u001b[38;2;212;183;2m│\u001b[0m \u001b[1m<think> Before executing anything, think step by step and output reasoning. </think>Search for the best music \u001b[0m  \u001b[38;2;212;183;2m│\u001b[0m\n",
              "\u001b[38;2;212;183;2m│\u001b[0m \u001b[1mrecommendations for a party at the Wayne's mansion.\u001b[0m                                                             \u001b[38;2;212;183;2m│\u001b[0m\n",
              "\u001b[38;2;212;183;2m│\u001b[0m                                                                                                                 \u001b[38;2;212;183;2m│\u001b[0m\n",
              "\u001b[38;2;212;183;2m╰─\u001b[0m\u001b[38;2;212;183;2m HfApiModel - Qwen/Qwen2.5-Coder-32B-Instruct \u001b[0m\u001b[38;2;212;183;2m─────────────────────────────────────────────────────────────────\u001b[0m\u001b[38;2;212;183;2m─╯\u001b[0m\n"
            ]
          },
          "metadata": {},
          "output_type": "display_data"
        },
        {
          "data": {
            "text/html": [
              "<pre style=\"white-space:pre;overflow-x:auto;line-height:normal;font-family:Menlo,'DejaVu Sans Mono',consolas,'Courier New',monospace\"><span style=\"color: #d4b702; text-decoration-color: #d4b702\">━━━━━━━━━━━━━━━━━━━━━━━━━━━━━━━━━━━━━━━━━━━━━━━━━━━━━ </span><span style=\"font-weight: bold\">Step </span><span style=\"color: #008080; text-decoration-color: #008080; font-weight: bold\">1</span><span style=\"color: #d4b702; text-decoration-color: #d4b702\"> ━━━━━━━━━━━━━━━━━━━━━━━━━━━━━━━━━━━━━━━━━━━━━━━━━━━━━━</span>\n",
              "</pre>\n"
            ],
            "text/plain": [
              "\u001b[38;2;212;183;2m━━━━━━━━━━━━━━━━━━━━━━━━━━━━━━━━━━━━━━━━━━━━━━━━━━━━━ \u001b[0m\u001b[1mStep \u001b[0m\u001b[1;36m1\u001b[0m\u001b[38;2;212;183;2m ━━━━━━━━━━━━━━━━━━━━━━━━━━━━━━━━━━━━━━━━━━━━━━━━━━━━━━\u001b[0m\n"
            ]
          },
          "metadata": {},
          "output_type": "display_data"
        },
        {
          "data": {
            "text/html": [
              "<pre style=\"white-space:pre;overflow-x:auto;line-height:normal;font-family:Menlo,'DejaVu Sans Mono',consolas,'Courier New',monospace\">╭─────────────────────────────────────────────────────────────────────────────────────────────────────────────────╮\n",
              "│ Calling tool: 'web_search' with arguments: {'query': 'best music recommendations for a party at a mansion'}     │\n",
              "╰─────────────────────────────────────────────────────────────────────────────────────────────────────────────────╯\n",
              "</pre>\n"
            ],
            "text/plain": [
              "╭─────────────────────────────────────────────────────────────────────────────────────────────────────────────────╮\n",
              "│ Calling tool: 'web_search' with arguments: {'query': 'best music recommendations for a party at a mansion'}     │\n",
              "╰─────────────────────────────────────────────────────────────────────────────────────────────────────────────────╯\n"
            ]
          },
          "metadata": {},
          "output_type": "display_data"
        },
        {
          "data": {
            "text/html": [
              "<pre style=\"white-space:pre;overflow-x:auto;line-height:normal;font-family:Menlo,'DejaVu Sans Mono',consolas,'Courier New',monospace\">Observations: ## Search Results\n",
              "\n",
              "|<span style=\"color: #008080; text-decoration-color: #008080; font-weight: bold\">45</span> Songs That Get Your Event Guests on the Dance Floor Every \n",
              "Time<span style=\"font-weight: bold\">](</span><span style=\"color: #0000ff; text-decoration-color: #0000ff; text-decoration: underline\">https://hub.theeventplannerexpo.com/entertainment/35-songs-that-get-your-event-guests-on-the-dance-floor-ever</span>\n",
              "<span style=\"color: #0000ff; text-decoration-color: #0000ff; text-decoration: underline\">y-time)</span>\n",
              "Top Songs That Work Every Time When you work with your event services providers for music before the event, drill \n",
              "down on some of the best dance-floor songs to have on hand for motivating a dance crowd. You'll know your client's \n",
              "event best, including music genre preferences and styles.\n",
              "\n",
              "|The <span style=\"color: #008080; text-decoration-color: #008080; font-weight: bold\">75</span> Best Party Songs That Will Get Everyone Dancing - \n",
              "Gear4music<span style=\"font-weight: bold\">](</span><span style=\"color: #0000ff; text-decoration-color: #0000ff; text-decoration: underline\">https://www.gear4music.com/blog/best-party-songs/)</span>\n",
              "Creating the perfect soundtrack is crucial to getting the right atmosphere at your event. If you're throwing a \n",
              "party, there are countless songs that will get everyone up and dancing; even once you've chosen your mix, you'll \n",
              "probably still think of more later! So, to keep things simple, we've compiled the best party songs of all time, \n",
              "from timeless classics to contemporary hits, giving <span style=\"color: #808000; text-decoration-color: #808000\">...</span>\n",
              "\n",
              "|<span style=\"color: #008080; text-decoration-color: #008080; font-weight: bold\">40</span> Must-Have Wedding Songs to Keep Guests Dancing <span style=\"font-weight: bold\">(</span>and Which <span style=\"color: #808000; text-decoration-color: #808000\">...</span> - \n",
              "GigSalad<span style=\"font-weight: bold\">](</span><span style=\"color: #0000ff; text-decoration-color: #0000ff; text-decoration: underline\">https://www.gigsalad.com/blog/must-have-wedding-songs/)</span>\n",
              "Nothing makes or breaks a wedding reception like the music. A perfectly curated playlist will flood the dance floor\n",
              "with guests of all ages. While a few missteps could send them retreating to their seats. Whether you're hiring a \n",
              "live band or a DJ or using your own playlist, knowing which must-have wedding songs to include can ensure a night \n",
              "of unforgettable moves and memories.\n",
              "\n",
              "|<span style=\"color: #008080; text-decoration-color: #008080; font-weight: bold\">50</span> Songs on Every Event Planner's Playlist - \n",
              "Eventbrite<span style=\"font-weight: bold\">](</span><span style=\"color: #0000ff; text-decoration-color: #0000ff; text-decoration: underline\">https://www.eventbrite.com/blog/event-planning-playlist-ds00/)</span>\n",
              "Need help choosing the perfect event music? Discover how to curate the right playlist with song suggestions from \n",
              "Eventbrite.\n",
              "\n",
              "|<span style=\"color: #008080; text-decoration-color: #008080; font-weight: bold\">50</span>+ Best Songs For Your Next Party in <span style=\"color: #008080; text-decoration-color: #008080; font-weight: bold\">2025</span> - Aleka's \n",
              "Get-Together<span style=\"font-weight: bold\">](</span><span style=\"color: #0000ff; text-decoration-color: #0000ff; text-decoration: underline\">https://alekasgettogether.com/top-songs-for-any-party/)</span>\n",
              "A fun and upbeat party song playlist that your guests will love dancing along to! This list is a mix of old and new\n",
              "songs to keep things interesting!\n",
              "\n",
              "|The Ultimate Wedding Playlist: <span style=\"color: #008080; text-decoration-color: #008080; font-weight: bold\">1000</span>+ Party Songs to Get Your Guests \n",
              "<span style=\"color: #808000; text-decoration-color: #808000\">...</span><span style=\"font-weight: bold\">](</span><span style=\"color: #0000ff; text-decoration-color: #0000ff; text-decoration: underline\">https://www.bandsforhire.net/blog/evening-playlist)</span>\n",
              "Get your evening party in gear with our ultimate wedding playlist - handpicked by our team of wedding music experts\n",
              "<span style=\"font-weight: bold\">(</span>that's Sam<span style=\"font-weight: bold\">)</span>.\n",
              "\n",
              "|Best Songs To Party: DJ's Ultimate Party Songs Playlist - \n",
              "Top40Weekly.com<span style=\"font-weight: bold\">](</span><span style=\"color: #0000ff; text-decoration-color: #0000ff; text-decoration: underline\">https://top40weekly.com/best-songs-to-party/)</span>\n",
              "Planning a celebration? Don't forget the music! We've compiled the best songs to party that are sure to get \n",
              "everyone in the mood to dance and have a good time.\n",
              "\n",
              "|<span style=\"color: #008080; text-decoration-color: #008080; font-weight: bold\">100</span>+ New Wedding Songs For <span style=\"color: #008080; text-decoration-color: #008080; font-weight: bold\">2024</span> To Play At Your \n",
              "Reception<span style=\"font-weight: bold\">](</span><span style=\"color: #0000ff; text-decoration-color: #0000ff; text-decoration: underline\">https://mansiononmainstreet.com/100-new-wedding-songs-for-2024-to-play-at-your-reception/)</span>\n",
              "The best new country wedding songs can set the right tone for every aspect of your wedding. Choose dance tracks and\n",
              "ballads to fit each stage of your special day, right from the processional to your first and last dance at the \n",
              "wedding reception.\n",
              "\n",
              "|<span style=\"color: #008080; text-decoration-color: #008080; font-weight: bold\">96</span> Epic Wedding Party Songs To Fill Your Dancefloor - Function \n",
              "Central<span style=\"font-weight: bold\">](</span><span style=\"color: #0000ff; text-decoration-color: #0000ff; text-decoration: underline\">https://www.functioncentral.co.uk/wedding-party-songs)</span>\n",
              "If you're dreaming of a dancefloor heaving with friends and loved ones, here are the wedding party tunes to make \n",
              "that happen!\n",
              "\n",
              "|<span style=\"color: #008080; text-decoration-color: #008080; font-weight: bold\">110</span> Cocktail Hour Music and Song Recommendations - \n",
              "Brides<span style=\"font-weight: bold\">](</span><span style=\"color: #0000ff; text-decoration-color: #0000ff; text-decoration: underline\">https://www.brides.com/wedding-cocktail-hour-songs-4774516)</span>\n",
              "Looking for wedding cocktail hour music to keep the good times rolling post-ceremony? Get the party started with \n",
              "these <span style=\"color: #008080; text-decoration-color: #008080; font-weight: bold\">110</span> songs. Here, we're sharing the very best tunes to set a fun party tone <span style=\"color: #808000; text-decoration-color: #808000\">...</span>\n",
              "</pre>\n"
            ],
            "text/plain": [
              "Observations: ## Search Results\n",
              "\n",
              "|\u001b[1;36m45\u001b[0m Songs That Get Your Event Guests on the Dance Floor Every \n",
              "Time\u001b[1m]\u001b[0m\u001b[1m(\u001b[0m\u001b[4;94mhttps://hub.theeventplannerexpo.com/entertainment/35-songs-that-get-your-event-guests-on-the-dance-floor-ever\u001b[0m\n",
              "\u001b[4;94my-time\u001b[0m\u001b[4;94m)\u001b[0m\n",
              "Top Songs That Work Every Time When you work with your event services providers for music before the event, drill \n",
              "down on some of the best dance-floor songs to have on hand for motivating a dance crowd. You'll know your client's \n",
              "event best, including music genre preferences and styles.\n",
              "\n",
              "|The \u001b[1;36m75\u001b[0m Best Party Songs That Will Get Everyone Dancing - \n",
              "Gear4music\u001b[1m]\u001b[0m\u001b[1m(\u001b[0m\u001b[4;94mhttps://www.gear4music.com/blog/best-party-songs/\u001b[0m\u001b[4;94m)\u001b[0m\n",
              "Creating the perfect soundtrack is crucial to getting the right atmosphere at your event. If you're throwing a \n",
              "party, there are countless songs that will get everyone up and dancing; even once you've chosen your mix, you'll \n",
              "probably still think of more later! So, to keep things simple, we've compiled the best party songs of all time, \n",
              "from timeless classics to contemporary hits, giving \u001b[33m...\u001b[0m\n",
              "\n",
              "|\u001b[1;36m40\u001b[0m Must-Have Wedding Songs to Keep Guests Dancing \u001b[1m(\u001b[0mand Which \u001b[33m...\u001b[0m - \n",
              "GigSalad\u001b[1m]\u001b[0m\u001b[1m(\u001b[0m\u001b[4;94mhttps://www.gigsalad.com/blog/must-have-wedding-songs/\u001b[0m\u001b[4;94m)\u001b[0m\n",
              "Nothing makes or breaks a wedding reception like the music. A perfectly curated playlist will flood the dance floor\n",
              "with guests of all ages. While a few missteps could send them retreating to their seats. Whether you're hiring a \n",
              "live band or a DJ or using your own playlist, knowing which must-have wedding songs to include can ensure a night \n",
              "of unforgettable moves and memories.\n",
              "\n",
              "|\u001b[1;36m50\u001b[0m Songs on Every Event Planner's Playlist - \n",
              "Eventbrite\u001b[1m]\u001b[0m\u001b[1m(\u001b[0m\u001b[4;94mhttps://www.eventbrite.com/blog/event-planning-playlist-ds00/\u001b[0m\u001b[4;94m)\u001b[0m\n",
              "Need help choosing the perfect event music? Discover how to curate the right playlist with song suggestions from \n",
              "Eventbrite.\n",
              "\n",
              "|\u001b[1;36m50\u001b[0m+ Best Songs For Your Next Party in \u001b[1;36m2025\u001b[0m - Aleka's \n",
              "Get-Together\u001b[1m]\u001b[0m\u001b[1m(\u001b[0m\u001b[4;94mhttps://alekasgettogether.com/top-songs-for-any-party/\u001b[0m\u001b[4;94m)\u001b[0m\n",
              "A fun and upbeat party song playlist that your guests will love dancing along to! This list is a mix of old and new\n",
              "songs to keep things interesting!\n",
              "\n",
              "|The Ultimate Wedding Playlist: \u001b[1;36m1000\u001b[0m+ Party Songs to Get Your Guests \n",
              "\u001b[33m...\u001b[0m\u001b[1m]\u001b[0m\u001b[1m(\u001b[0m\u001b[4;94mhttps://www.bandsforhire.net/blog/evening-playlist\u001b[0m\u001b[4;94m)\u001b[0m\n",
              "Get your evening party in gear with our ultimate wedding playlist - handpicked by our team of wedding music experts\n",
              "\u001b[1m(\u001b[0mthat's Sam\u001b[1m)\u001b[0m.\n",
              "\n",
              "|Best Songs To Party: DJ's Ultimate Party Songs Playlist - \n",
              "Top40Weekly.com\u001b[1m]\u001b[0m\u001b[1m(\u001b[0m\u001b[4;94mhttps://top40weekly.com/best-songs-to-party/\u001b[0m\u001b[4;94m)\u001b[0m\n",
              "Planning a celebration? Don't forget the music! We've compiled the best songs to party that are sure to get \n",
              "everyone in the mood to dance and have a good time.\n",
              "\n",
              "|\u001b[1;36m100\u001b[0m+ New Wedding Songs For \u001b[1;36m2024\u001b[0m To Play At Your \n",
              "Reception\u001b[1m]\u001b[0m\u001b[1m(\u001b[0m\u001b[4;94mhttps://mansiononmainstreet.com/100-new-wedding-songs-for-2024-to-play-at-your-reception/\u001b[0m\u001b[4;94m)\u001b[0m\n",
              "The best new country wedding songs can set the right tone for every aspect of your wedding. Choose dance tracks and\n",
              "ballads to fit each stage of your special day, right from the processional to your first and last dance at the \n",
              "wedding reception.\n",
              "\n",
              "|\u001b[1;36m96\u001b[0m Epic Wedding Party Songs To Fill Your Dancefloor - Function \n",
              "Central\u001b[1m]\u001b[0m\u001b[1m(\u001b[0m\u001b[4;94mhttps://www.functioncentral.co.uk/wedding-party-songs\u001b[0m\u001b[4;94m)\u001b[0m\n",
              "If you're dreaming of a dancefloor heaving with friends and loved ones, here are the wedding party tunes to make \n",
              "that happen!\n",
              "\n",
              "|\u001b[1;36m110\u001b[0m Cocktail Hour Music and Song Recommendations - \n",
              "Brides\u001b[1m]\u001b[0m\u001b[1m(\u001b[0m\u001b[4;94mhttps://www.brides.com/wedding-cocktail-hour-songs-4774516\u001b[0m\u001b[4;94m)\u001b[0m\n",
              "Looking for wedding cocktail hour music to keep the good times rolling post-ceremony? Get the party started with \n",
              "these \u001b[1;36m110\u001b[0m songs. Here, we're sharing the very best tunes to set a fun party tone \u001b[33m...\u001b[0m\n"
            ]
          },
          "metadata": {},
          "output_type": "display_data"
        },
        {
          "data": {
            "text/html": [
              "<pre style=\"white-space:pre;overflow-x:auto;line-height:normal;font-family:Menlo,'DejaVu Sans Mono',consolas,'Courier New',monospace\"><span style=\"color: #7f7f7f; text-decoration-color: #7f7f7f\">[Step 0: Duration 3.33 seconds| Input tokens: 1,192 | Output tokens: 29]</span>\n",
              "</pre>\n"
            ],
            "text/plain": [
              "\u001b[2m[Step 0: Duration 3.33 seconds| Input tokens: 1,192 | Output tokens: 29]\u001b[0m\n"
            ]
          },
          "metadata": {},
          "output_type": "display_data"
        },
        {
          "data": {
            "text/html": [
              "<pre style=\"white-space:pre;overflow-x:auto;line-height:normal;font-family:Menlo,'DejaVu Sans Mono',consolas,'Courier New',monospace\"><span style=\"color: #d4b702; text-decoration-color: #d4b702\">━━━━━━━━━━━━━━━━━━━━━━━━━━━━━━━━━━━━━━━━━━━━━━━━━━━━━ </span><span style=\"font-weight: bold\">Step </span><span style=\"color: #008080; text-decoration-color: #008080; font-weight: bold\">2</span><span style=\"color: #d4b702; text-decoration-color: #d4b702\"> ━━━━━━━━━━━━━━━━━━━━━━━━━━━━━━━━━━━━━━━━━━━━━━━━━━━━━━</span>\n",
              "</pre>\n"
            ],
            "text/plain": [
              "\u001b[38;2;212;183;2m━━━━━━━━━━━━━━━━━━━━━━━━━━━━━━━━━━━━━━━━━━━━━━━━━━━━━ \u001b[0m\u001b[1mStep \u001b[0m\u001b[1;36m2\u001b[0m\u001b[38;2;212;183;2m ━━━━━━━━━━━━━━━━━━━━━━━━━━━━━━━━━━━━━━━━━━━━━━━━━━━━━━\u001b[0m\n"
            ]
          },
          "metadata": {},
          "output_type": "display_data"
        },
        {
          "data": {
            "text/html": [
              "<pre style=\"white-space:pre;overflow-x:auto;line-height:normal;font-family:Menlo,'DejaVu Sans Mono',consolas,'Courier New',monospace\">╭─────────────────────────────────────────────────────────────────────────────────────────────────────────────────╮\n",
              "│ Calling tool: 'final_answer' with arguments: {'answer': \"Based on the search results, here's a curated list of  │\n",
              "│ 20 songs that will get guests dancing at Wayne's mansion party:\\\\\"}                                             │\n",
              "╰─────────────────────────────────────────────────────────────────────────────────────────────────────────────────╯\n",
              "</pre>\n"
            ],
            "text/plain": [
              "╭─────────────────────────────────────────────────────────────────────────────────────────────────────────────────╮\n",
              "│ Calling tool: 'final_answer' with arguments: {'answer': \"Based on the search results, here's a curated list of  │\n",
              "│ 20 songs that will get guests dancing at Wayne's mansion party:\\\\\"}                                             │\n",
              "╰─────────────────────────────────────────────────────────────────────────────────────────────────────────────────╯\n"
            ]
          },
          "metadata": {},
          "output_type": "display_data"
        },
        {
          "data": {
            "text/html": [
              "<pre style=\"white-space:pre;overflow-x:auto;line-height:normal;font-family:Menlo,'DejaVu Sans Mono',consolas,'Courier New',monospace\"><span style=\"color: #d4b702; text-decoration-color: #d4b702; font-weight: bold\">Final answer: Based on the search results, here's a curated list of 20 songs that will get guests dancing at </span>\n",
              "<span style=\"color: #d4b702; text-decoration-color: #d4b702; font-weight: bold\">Wayne's mansion party:\\</span>\n",
              "</pre>\n"
            ],
            "text/plain": [
              "\u001b[1;38;2;212;183;2mFinal answer: Based on the search results, here's a curated list of 20 songs that will get guests dancing at \u001b[0m\n",
              "\u001b[1;38;2;212;183;2mWayne's mansion party:\\\u001b[0m\n"
            ]
          },
          "metadata": {},
          "output_type": "display_data"
        },
        {
          "data": {
            "text/html": [
              "<pre style=\"white-space:pre;overflow-x:auto;line-height:normal;font-family:Menlo,'DejaVu Sans Mono',consolas,'Courier New',monospace\"><span style=\"color: #7f7f7f; text-decoration-color: #7f7f7f\">[Step 1: Duration 4.55 seconds| Input tokens: 3,275 | Output tokens: 77]</span>\n",
              "</pre>\n"
            ],
            "text/plain": [
              "\u001b[2m[Step 1: Duration 4.55 seconds| Input tokens: 3,275 | Output tokens: 77]\u001b[0m\n"
            ]
          },
          "metadata": {},
          "output_type": "display_data"
        },
        {
          "data": {
            "application/vnd.google.colaboratory.intrinsic+json": {
              "type": "string"
            },
            "text/plain": [
              "\"Based on the search results, here's a curated list of 20 songs that will get guests dancing at Wayne's mansion party:\\\\\""
            ]
          },
          "execution_count": 8,
          "metadata": {},
          "output_type": "execute_result"
        }
      ],
      "source": [
        "from smolagents import ToolCallingAgent, DuckDuckGoSearchTool, HfApiModel\n",
        "\n",
        "agent = ToolCallingAgent(tools=[DuckDuckGoSearchTool()], model=HfApiModel())\n",
        "\n",
        "agent.run(\"<think> Before executing anything, think step by step and output reasoning. </think>Search for the best music recommendations for a party at the Wayne's mansion.\")"
      ]
    },
    {
      "cell_type": "code",
      "execution_count": 11,
      "metadata": {
        "id": "gu_7CEucF-wr"
      },
      "outputs": [],
      "source": []
    },
    {
      "cell_type": "code",
      "execution_count": null,
      "metadata": {
        "id": "R73o3HhbGETp"
      },
      "outputs": [],
      "source": []
    }
  ],
  "metadata": {
    "colab": {
      "provenance": []
    },
    "kernelspec": {
      "display_name": "Python 3",
      "name": "python3"
    },
    "language_info": {
      "name": "python"
    },
    "widgets": {
      "application/vnd.jupyter.widget-state+json": {
        "00c27fcab46a44f1b5588911c6d8dafd": {
          "model_module": "@jupyter-widgets/controls",
          "model_module_version": "1.5.0",
          "model_name": "PasswordModel",
          "state": {
            "_dom_classes": [],
            "_model_module": "@jupyter-widgets/controls",
            "_model_module_version": "1.5.0",
            "_model_name": "PasswordModel",
            "_view_count": null,
            "_view_module": "@jupyter-widgets/controls",
            "_view_module_version": "1.5.0",
            "_view_name": "PasswordView",
            "continuous_update": true,
            "description": "Token:",
            "description_tooltip": null,
            "disabled": false,
            "layout": "IPY_MODEL_d51eea68a0ed44d789acdba8e42bdf42",
            "placeholder": "​",
            "style": "IPY_MODEL_64deb93e4288430d9df284df18355a71",
            "value": ""
          }
        },
        "112451246e8b45f5893f7830daca9924": {
          "model_module": "@jupyter-widgets/controls",
          "model_module_version": "1.5.0",
          "model_name": "ButtonStyleModel",
          "state": {
            "_model_module": "@jupyter-widgets/controls",
            "_model_module_version": "1.5.0",
            "_model_name": "ButtonStyleModel",
            "_view_count": null,
            "_view_module": "@jupyter-widgets/base",
            "_view_module_version": "1.2.0",
            "_view_name": "StyleView",
            "button_color": null,
            "font_weight": ""
          }
        },
        "20babae41fd643919317e50b17f8fd1c": {
          "model_module": "@jupyter-widgets/controls",
          "model_module_version": "1.5.0",
          "model_name": "HTMLModel",
          "state": {
            "_dom_classes": [],
            "_model_module": "@jupyter-widgets/controls",
            "_model_module_version": "1.5.0",
            "_model_name": "HTMLModel",
            "_view_count": null,
            "_view_module": "@jupyter-widgets/controls",
            "_view_module_version": "1.5.0",
            "_view_name": "HTMLView",
            "description": "",
            "description_tooltip": null,
            "layout": "IPY_MODEL_3b4cf61190294cdb9a5af1156adf2eb1",
            "placeholder": "​",
            "style": "IPY_MODEL_39e48432dbb644a9bb589b60039a5901",
            "value": "<center> <img\nsrc=https://huggingface.co/front/assets/huggingface_logo-noborder.svg\nalt='Hugging Face'> <br> Copy a token from <a\nhref=\"https://huggingface.co/settings/tokens\" target=\"_blank\">your Hugging Face\ntokens page</a> and paste it below. <br> Immediately click login after copying\nyour token or it might be stored in plain text in this notebook file. </center>"
          }
        },
        "39e48432dbb644a9bb589b60039a5901": {
          "model_module": "@jupyter-widgets/controls",
          "model_module_version": "1.5.0",
          "model_name": "DescriptionStyleModel",
          "state": {
            "_model_module": "@jupyter-widgets/controls",
            "_model_module_version": "1.5.0",
            "_model_name": "DescriptionStyleModel",
            "_view_count": null,
            "_view_module": "@jupyter-widgets/base",
            "_view_module_version": "1.2.0",
            "_view_name": "StyleView",
            "description_width": ""
          }
        },
        "3b4cf61190294cdb9a5af1156adf2eb1": {
          "model_module": "@jupyter-widgets/base",
          "model_module_version": "1.2.0",
          "model_name": "LayoutModel",
          "state": {
            "_model_module": "@jupyter-widgets/base",
            "_model_module_version": "1.2.0",
            "_model_name": "LayoutModel",
            "_view_count": null,
            "_view_module": "@jupyter-widgets/base",
            "_view_module_version": "1.2.0",
            "_view_name": "LayoutView",
            "align_content": null,
            "align_items": null,
            "align_self": null,
            "border": null,
            "bottom": null,
            "display": null,
            "flex": null,
            "flex_flow": null,
            "grid_area": null,
            "grid_auto_columns": null,
            "grid_auto_flow": null,
            "grid_auto_rows": null,
            "grid_column": null,
            "grid_gap": null,
            "grid_row": null,
            "grid_template_areas": null,
            "grid_template_columns": null,
            "grid_template_rows": null,
            "height": null,
            "justify_content": null,
            "justify_items": null,
            "left": null,
            "margin": null,
            "max_height": null,
            "max_width": null,
            "min_height": null,
            "min_width": null,
            "object_fit": null,
            "object_position": null,
            "order": null,
            "overflow": null,
            "overflow_x": null,
            "overflow_y": null,
            "padding": null,
            "right": null,
            "top": null,
            "visibility": null,
            "width": null
          }
        },
        "4d3352e463334b9d87e6e6d9a0990bcf": {
          "model_module": "@jupyter-widgets/base",
          "model_module_version": "1.2.0",
          "model_name": "LayoutModel",
          "state": {
            "_model_module": "@jupyter-widgets/base",
            "_model_module_version": "1.2.0",
            "_model_name": "LayoutModel",
            "_view_count": null,
            "_view_module": "@jupyter-widgets/base",
            "_view_module_version": "1.2.0",
            "_view_name": "LayoutView",
            "align_content": null,
            "align_items": null,
            "align_self": null,
            "border": null,
            "bottom": null,
            "display": null,
            "flex": null,
            "flex_flow": null,
            "grid_area": null,
            "grid_auto_columns": null,
            "grid_auto_flow": null,
            "grid_auto_rows": null,
            "grid_column": null,
            "grid_gap": null,
            "grid_row": null,
            "grid_template_areas": null,
            "grid_template_columns": null,
            "grid_template_rows": null,
            "height": null,
            "justify_content": null,
            "justify_items": null,
            "left": null,
            "margin": null,
            "max_height": null,
            "max_width": null,
            "min_height": null,
            "min_width": null,
            "object_fit": null,
            "object_position": null,
            "order": null,
            "overflow": null,
            "overflow_x": null,
            "overflow_y": null,
            "padding": null,
            "right": null,
            "top": null,
            "visibility": null,
            "width": null
          }
        },
        "64deb93e4288430d9df284df18355a71": {
          "model_module": "@jupyter-widgets/controls",
          "model_module_version": "1.5.0",
          "model_name": "DescriptionStyleModel",
          "state": {
            "_model_module": "@jupyter-widgets/controls",
            "_model_module_version": "1.5.0",
            "_model_name": "DescriptionStyleModel",
            "_view_count": null,
            "_view_module": "@jupyter-widgets/base",
            "_view_module_version": "1.2.0",
            "_view_name": "StyleView",
            "description_width": ""
          }
        },
        "6aaf3cca5b5848be8ce0ca5102402c0d": {
          "model_module": "@jupyter-widgets/controls",
          "model_module_version": "1.5.0",
          "model_name": "DescriptionStyleModel",
          "state": {
            "_model_module": "@jupyter-widgets/controls",
            "_model_module_version": "1.5.0",
            "_model_name": "DescriptionStyleModel",
            "_view_count": null,
            "_view_module": "@jupyter-widgets/base",
            "_view_module_version": "1.2.0",
            "_view_name": "StyleView",
            "description_width": ""
          }
        },
        "75ce56bee0c94ce8882bdd0e489889ab": {
          "model_module": "@jupyter-widgets/controls",
          "model_module_version": "1.5.0",
          "model_name": "HTMLModel",
          "state": {
            "_dom_classes": [],
            "_model_module": "@jupyter-widgets/controls",
            "_model_module_version": "1.5.0",
            "_model_name": "HTMLModel",
            "_view_count": null,
            "_view_module": "@jupyter-widgets/controls",
            "_view_module_version": "1.5.0",
            "_view_name": "HTMLView",
            "description": "",
            "description_tooltip": null,
            "layout": "IPY_MODEL_8084786057a64ba2bc6da4e6740d8c71",
            "placeholder": "​",
            "style": "IPY_MODEL_aef7bc01fc1943f19c7fd91cfc8e14c0",
            "value": "\n<b>Pro Tip:</b> If you don't already have one, you can create a dedicated\n'notebooks' token with 'write' access, that you can then easily reuse for all\nnotebooks. </center>"
          }
        },
        "76efaafbea5d4ffe89c838de5e6ff574": {
          "model_module": "@jupyter-widgets/controls",
          "model_module_version": "1.5.0",
          "model_name": "ButtonModel",
          "state": {
            "_dom_classes": [],
            "_model_module": "@jupyter-widgets/controls",
            "_model_module_version": "1.5.0",
            "_model_name": "ButtonModel",
            "_view_count": null,
            "_view_module": "@jupyter-widgets/controls",
            "_view_module_version": "1.5.0",
            "_view_name": "ButtonView",
            "button_style": "",
            "description": "Login",
            "disabled": false,
            "icon": "",
            "layout": "IPY_MODEL_7bff9119d72a4940b1921d8206a9b628",
            "style": "IPY_MODEL_112451246e8b45f5893f7830daca9924",
            "tooltip": ""
          }
        },
        "7bff9119d72a4940b1921d8206a9b628": {
          "model_module": "@jupyter-widgets/base",
          "model_module_version": "1.2.0",
          "model_name": "LayoutModel",
          "state": {
            "_model_module": "@jupyter-widgets/base",
            "_model_module_version": "1.2.0",
            "_model_name": "LayoutModel",
            "_view_count": null,
            "_view_module": "@jupyter-widgets/base",
            "_view_module_version": "1.2.0",
            "_view_name": "LayoutView",
            "align_content": null,
            "align_items": null,
            "align_self": null,
            "border": null,
            "bottom": null,
            "display": null,
            "flex": null,
            "flex_flow": null,
            "grid_area": null,
            "grid_auto_columns": null,
            "grid_auto_flow": null,
            "grid_auto_rows": null,
            "grid_column": null,
            "grid_gap": null,
            "grid_row": null,
            "grid_template_areas": null,
            "grid_template_columns": null,
            "grid_template_rows": null,
            "height": null,
            "justify_content": null,
            "justify_items": null,
            "left": null,
            "margin": null,
            "max_height": null,
            "max_width": null,
            "min_height": null,
            "min_width": null,
            "object_fit": null,
            "object_position": null,
            "order": null,
            "overflow": null,
            "overflow_x": null,
            "overflow_y": null,
            "padding": null,
            "right": null,
            "top": null,
            "visibility": null,
            "width": null
          }
        },
        "8084786057a64ba2bc6da4e6740d8c71": {
          "model_module": "@jupyter-widgets/base",
          "model_module_version": "1.2.0",
          "model_name": "LayoutModel",
          "state": {
            "_model_module": "@jupyter-widgets/base",
            "_model_module_version": "1.2.0",
            "_model_name": "LayoutModel",
            "_view_count": null,
            "_view_module": "@jupyter-widgets/base",
            "_view_module_version": "1.2.0",
            "_view_name": "LayoutView",
            "align_content": null,
            "align_items": null,
            "align_self": null,
            "border": null,
            "bottom": null,
            "display": null,
            "flex": null,
            "flex_flow": null,
            "grid_area": null,
            "grid_auto_columns": null,
            "grid_auto_flow": null,
            "grid_auto_rows": null,
            "grid_column": null,
            "grid_gap": null,
            "grid_row": null,
            "grid_template_areas": null,
            "grid_template_columns": null,
            "grid_template_rows": null,
            "height": null,
            "justify_content": null,
            "justify_items": null,
            "left": null,
            "margin": null,
            "max_height": null,
            "max_width": null,
            "min_height": null,
            "min_width": null,
            "object_fit": null,
            "object_position": null,
            "order": null,
            "overflow": null,
            "overflow_x": null,
            "overflow_y": null,
            "padding": null,
            "right": null,
            "top": null,
            "visibility": null,
            "width": null
          }
        },
        "86c23c3a97ab4c379e025c38368832df": {
          "model_module": "@jupyter-widgets/base",
          "model_module_version": "1.2.0",
          "model_name": "LayoutModel",
          "state": {
            "_model_module": "@jupyter-widgets/base",
            "_model_module_version": "1.2.0",
            "_model_name": "LayoutModel",
            "_view_count": null,
            "_view_module": "@jupyter-widgets/base",
            "_view_module_version": "1.2.0",
            "_view_name": "LayoutView",
            "align_content": null,
            "align_items": null,
            "align_self": null,
            "border": null,
            "bottom": null,
            "display": null,
            "flex": null,
            "flex_flow": null,
            "grid_area": null,
            "grid_auto_columns": null,
            "grid_auto_flow": null,
            "grid_auto_rows": null,
            "grid_column": null,
            "grid_gap": null,
            "grid_row": null,
            "grid_template_areas": null,
            "grid_template_columns": null,
            "grid_template_rows": null,
            "height": null,
            "justify_content": null,
            "justify_items": null,
            "left": null,
            "margin": null,
            "max_height": null,
            "max_width": null,
            "min_height": null,
            "min_width": null,
            "object_fit": null,
            "object_position": null,
            "order": null,
            "overflow": null,
            "overflow_x": null,
            "overflow_y": null,
            "padding": null,
            "right": null,
            "top": null,
            "visibility": null,
            "width": null
          }
        },
        "8d95da8ee1774f2e89c5fcff84ac0604": {
          "model_module": "@jupyter-widgets/controls",
          "model_module_version": "1.5.0",
          "model_name": "CheckboxModel",
          "state": {
            "_dom_classes": [],
            "_model_module": "@jupyter-widgets/controls",
            "_model_module_version": "1.5.0",
            "_model_name": "CheckboxModel",
            "_view_count": null,
            "_view_module": "@jupyter-widgets/controls",
            "_view_module_version": "1.5.0",
            "_view_name": "CheckboxView",
            "description": "Add token as git credential?",
            "description_tooltip": null,
            "disabled": false,
            "indent": true,
            "layout": "IPY_MODEL_4d3352e463334b9d87e6e6d9a0990bcf",
            "style": "IPY_MODEL_6aaf3cca5b5848be8ce0ca5102402c0d",
            "value": true
          }
        },
        "aef7bc01fc1943f19c7fd91cfc8e14c0": {
          "model_module": "@jupyter-widgets/controls",
          "model_module_version": "1.5.0",
          "model_name": "DescriptionStyleModel",
          "state": {
            "_model_module": "@jupyter-widgets/controls",
            "_model_module_version": "1.5.0",
            "_model_name": "DescriptionStyleModel",
            "_view_count": null,
            "_view_module": "@jupyter-widgets/base",
            "_view_module_version": "1.2.0",
            "_view_name": "StyleView",
            "description_width": ""
          }
        },
        "bb46d568372a42229f4ed4aae7cc8cb5": {
          "model_module": "@jupyter-widgets/controls",
          "model_module_version": "1.5.0",
          "model_name": "DescriptionStyleModel",
          "state": {
            "_model_module": "@jupyter-widgets/controls",
            "_model_module_version": "1.5.0",
            "_model_name": "DescriptionStyleModel",
            "_view_count": null,
            "_view_module": "@jupyter-widgets/base",
            "_view_module_version": "1.2.0",
            "_view_name": "StyleView",
            "description_width": ""
          }
        },
        "d51eea68a0ed44d789acdba8e42bdf42": {
          "model_module": "@jupyter-widgets/base",
          "model_module_version": "1.2.0",
          "model_name": "LayoutModel",
          "state": {
            "_model_module": "@jupyter-widgets/base",
            "_model_module_version": "1.2.0",
            "_model_name": "LayoutModel",
            "_view_count": null,
            "_view_module": "@jupyter-widgets/base",
            "_view_module_version": "1.2.0",
            "_view_name": "LayoutView",
            "align_content": null,
            "align_items": null,
            "align_self": null,
            "border": null,
            "bottom": null,
            "display": null,
            "flex": null,
            "flex_flow": null,
            "grid_area": null,
            "grid_auto_columns": null,
            "grid_auto_flow": null,
            "grid_auto_rows": null,
            "grid_column": null,
            "grid_gap": null,
            "grid_row": null,
            "grid_template_areas": null,
            "grid_template_columns": null,
            "grid_template_rows": null,
            "height": null,
            "justify_content": null,
            "justify_items": null,
            "left": null,
            "margin": null,
            "max_height": null,
            "max_width": null,
            "min_height": null,
            "min_width": null,
            "object_fit": null,
            "object_position": null,
            "order": null,
            "overflow": null,
            "overflow_x": null,
            "overflow_y": null,
            "padding": null,
            "right": null,
            "top": null,
            "visibility": null,
            "width": null
          }
        },
        "e15d1735c0eb46da8e2cfc9f0887878a": {
          "model_module": "@jupyter-widgets/controls",
          "model_module_version": "1.5.0",
          "model_name": "VBoxModel",
          "state": {
            "_dom_classes": [],
            "_model_module": "@jupyter-widgets/controls",
            "_model_module_version": "1.5.0",
            "_model_name": "VBoxModel",
            "_view_count": null,
            "_view_module": "@jupyter-widgets/controls",
            "_view_module_version": "1.5.0",
            "_view_name": "VBoxView",
            "box_style": "",
            "children": [],
            "layout": "IPY_MODEL_ee82eedd8d4044b8960284facbee73e8"
          }
        },
        "ee82eedd8d4044b8960284facbee73e8": {
          "model_module": "@jupyter-widgets/base",
          "model_module_version": "1.2.0",
          "model_name": "LayoutModel",
          "state": {
            "_model_module": "@jupyter-widgets/base",
            "_model_module_version": "1.2.0",
            "_model_name": "LayoutModel",
            "_view_count": null,
            "_view_module": "@jupyter-widgets/base",
            "_view_module_version": "1.2.0",
            "_view_name": "LayoutView",
            "align_content": null,
            "align_items": "center",
            "align_self": null,
            "border": null,
            "bottom": null,
            "display": "flex",
            "flex": null,
            "flex_flow": "column",
            "grid_area": null,
            "grid_auto_columns": null,
            "grid_auto_flow": null,
            "grid_auto_rows": null,
            "grid_column": null,
            "grid_gap": null,
            "grid_row": null,
            "grid_template_areas": null,
            "grid_template_columns": null,
            "grid_template_rows": null,
            "height": null,
            "justify_content": null,
            "justify_items": null,
            "left": null,
            "margin": null,
            "max_height": null,
            "max_width": null,
            "min_height": null,
            "min_width": null,
            "object_fit": null,
            "object_position": null,
            "order": null,
            "overflow": null,
            "overflow_x": null,
            "overflow_y": null,
            "padding": null,
            "right": null,
            "top": null,
            "visibility": null,
            "width": "50%"
          }
        },
        "f2d5e90076514770a9de6f5094d5e3e3": {
          "model_module": "@jupyter-widgets/controls",
          "model_module_version": "1.5.0",
          "model_name": "LabelModel",
          "state": {
            "_dom_classes": [],
            "_model_module": "@jupyter-widgets/controls",
            "_model_module_version": "1.5.0",
            "_model_name": "LabelModel",
            "_view_count": null,
            "_view_module": "@jupyter-widgets/controls",
            "_view_module_version": "1.5.0",
            "_view_name": "LabelView",
            "description": "",
            "description_tooltip": null,
            "layout": "IPY_MODEL_86c23c3a97ab4c379e025c38368832df",
            "placeholder": "​",
            "style": "IPY_MODEL_bb46d568372a42229f4ed4aae7cc8cb5",
            "value": "Connecting..."
          }
        }
      }
    }
  },
  "nbformat": 4,
  "nbformat_minor": 0
}
